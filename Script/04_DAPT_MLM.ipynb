{
 "cells": [
  {
   "cell_type": "markdown",
   "metadata": {
    "id": "Lau0lBkFu6Jr"
   },
   "source": [
    "## 1. Library Imports\n",
    "\n",
    "\n",
    "In this section, we import all the necessary libraries for data preprocessing, tokenization, model training, and evaluation.\n"
   ]
  },
  {
   "cell_type": "code",
   "execution_count": 1,
   "metadata": {
    "colab": {
     "base_uri": "https://localhost:8080/"
    },
    "id": "GofD_IzjAp05",
    "outputId": "46c1edbb-551c-4798-a77a-b840dc37051c"
   },
   "outputs": [
    {
     "name": "stderr",
     "output_type": "stream",
     "text": [
      "[nltk_data] Downloading package punkt_tab to /home/carmine-\n",
      "[nltk_data]     landolfi/nltk_data...\n",
      "[nltk_data]   Package punkt_tab is already up-to-date!\n"
     ]
    },
    {
     "data": {
      "text/plain": [
       "True"
      ]
     },
     "execution_count": 1,
     "metadata": {},
     "output_type": "execute_result"
    }
   ],
   "source": [
    "import pandas as pd\n",
    "import random\n",
    "from typing import List, Tuple, Dict, Any\n",
    "from transformers import BertTokenizer, BertForMaskedLM, BertForPreTraining, PreTrainedTokenizer, get_linear_schedule_with_warmup\n",
    "import nltk\n",
    "from nltk.tokenize import sent_tokenize\n",
    "from tqdm import tqdm  \n",
    "import torch\n",
    "from torch.optim import AdamW\n",
    "from torch.utils.data import Dataset, DataLoader\n",
    "import time\n",
    "import matplotlib.pyplot as plt\n",
    "import os\n",
    "import yaml\n",
    "import ast\n",
    "import json \n",
    "\n",
    "nltk.download(\"punkt_tab\")"
   ]
  },
  {
   "cell_type": "markdown",
   "metadata": {},
   "source": [
    "# Preparation of dataset to compute DAPT\n",
    "\n"
   ]
  },
  {
   "cell_type": "markdown",
   "metadata": {},
   "source": [
    "To prepare the dataset for NSP, for each abstract, we generate two sentence pairs used in the Next Sentence Prediction (NSP) task.\n",
    "\n",
    "- **Positive pairs (label 0)**: Two consecutive sentences from the same abstract.\n",
    "- **Negative pairs (label 1)**: Two non-consecutive sentences (from the same abstract or different abstracts).\n",
    "\n",
    "This setup simulates the original NSP objective from BERT’s pre-training, where the model learns to predict whether a given sentence B logically follows sentence A.\n",
    "\n",
    "The sentence pairs are tokenized using the BERT tokenizer. We apply the following settings:\n",
    "\n",
    "- `sentence_a`, `sentence_b`: the input sentence pairs.\n",
    "- `return_tensors=\"pt\"`: returns the output as PyTorch tensors.\n",
    "- `max_length=300`: maximum sequence length accepted by BERT.\n",
    "- `truncation=True`: truncates longer pairs to fit the model’s limit.\n",
    "- `padding=\"max_length\"`: ensures all sequences are padded to the same length.\n",
    "\n",
    "This step converts raw text into model-readable inputs (input IDs, attention masks, and token type IDs) required for pretraining tasks."
   ]
  },
  {
   "cell_type": "markdown",
   "metadata": {},
   "source": [
    "To compute tokenizatio e segmentation for MLM the abstracts are first split into sentences and tokenized with BERT’s tokenizer, adding the special tokens `[CLS]` at the start and `[SEP]` at the end of each sentence.\n",
    "\n",
    "The maximum input length is 512, but due to limited computational power all abstracts longer than 300 were excluded, and the maximum length was set to 300.\n",
    "\n",
    "Each chunk is padded to the maximum length, and attention masks and token type IDs are created accordingly. The output is a dictionary of tensors ready for input into the BERT model.\n",
    "\n",
    "In the traditional BERT pre-training procedure, 15% of the tokens are selected for masking. Among those:\n",
    "\n",
    "- 80% are replaced with the special `[MASK]` token.\n",
    "- 10% are replaced with a random token from the vocabulary.\n",
    "- 10% remain unchanged.\n",
    "\n",
    "This stochastic masking strategy prevents the model from relying too heavily on the presence of `[MASK]` during training, improving its robustness for downstream tasks.\n",
    "\n"
   ]
  },
  {
   "cell_type": "code",
   "execution_count": 2,
   "metadata": {
    "id": "QdHwZ4YqAMl9"
   },
   "outputs": [],
   "source": [
    "class DataPreparation:\n",
    "    \"\"\"\n",
    "    Prepares data for BERT-style pretraining tasks, including Next Sentence Prediction (NSP)\n",
    "    and Masked Language Modeling (MLM), from a dataset of text abstracts.\n",
    "\n",
    "    This class supports creating positive and negative NSP pairs, tokenizing sentence pairs,\n",
    "    segmenting abstracts into overlapping BERT-compatible chunks, and applying BERT-style token masking.\n",
    "\n",
    "    Attributes:\n",
    "        df (pd.DataFrame): DataFrame containing abstracts with a column 'abstract_clean'.\n",
    "        tokenizer (PreTrainedTokenizer): HuggingFace tokenizer compatible with BERT.\n",
    "        max_length (int): Maximum token length for BERT inputs.\n",
    "        mask_prob (float): Probability of masking tokens for MLM.\n",
    "    \"\"\"\n",
    "    def __init__(self, dataframe: pd.DataFrame, tokenizer: PreTrainedTokenizer,\n",
    "                 max_length: int = 512, mask_prob: float = 0.15):\n",
    "        self.df = dataframe\n",
    "        self.tokenizer = tokenizer\n",
    "        self.max_length = max_length\n",
    "        self.mask_prob = mask_prob\n",
    "        self.masking_stats = {\"total_tokens\": 0, \"masked_tokens\": 0}\n",
    "    \n",
    "    def tokenize_and_segment_abstracts(self) -> Dict[str, Any]:\n",
    "        return {\n",
    "            \"input_ids\": torch.tensor(self.df[\"input_ids\"], dtype=torch.long),\n",
    "            \"attention_mask\": torch.tensor(self.df[\"attention_mask\"], dtype=torch.long)\n",
    "        }\n",
    "        \n",
    "    def apply_bert_masking(self, features: Dict[str, torch.Tensor]) -> Dict[str, torch.Tensor]:\n",
    "        \"\"\"\n",
    "        Applies BERT-style masking to input features for MLM task and logs masking stats.\n",
    "    \n",
    "        Args:\n",
    "            features (Dict[str, torch.Tensor]): Input dictionary containing 'input_ids'.\n",
    "    \n",
    "        Returns:\n",
    "            Dict[str, torch.Tensor]: Updated input features with masked input and labels.\n",
    "        \"\"\"\n",
    "        input_ids = features[\"input_ids\"]\n",
    "        masked_input_ids = input_ids.clone()\n",
    "        labels = input_ids.clone()\n",
    "        torch.manual_seed(42)\n",
    "        rand = torch.rand(input_ids.shape)\n",
    "    \n",
    "        # Generate masking mask\n",
    "        mask_arr = (rand < self.mask_prob) & \\\n",
    "                   (input_ids != self.tokenizer.cls_token_id) & \\\n",
    "                   (input_ids != self.tokenizer.sep_token_id) & \\\n",
    "                   (input_ids != self.tokenizer.pad_token_id)\n",
    "    \n",
    "        # Count for monitoring\n",
    "        num_masked = mask_arr.sum().item()\n",
    "        num_total = ((input_ids != self.tokenizer.cls_token_id) &\n",
    "                     (input_ids != self.tokenizer.sep_token_id) &\n",
    "                     (input_ids != self.tokenizer.pad_token_id)).sum().item()\n",
    "    \n",
    "        # Update stats\n",
    "        self.masking_stats[\"masked_tokens\"] += num_masked\n",
    "        self.masking_stats[\"total_tokens\"] += num_total\n",
    "    \n",
    "        labels[~mask_arr] = -100  # only compute loss on masked tokens\n",
    "    \n",
    "        for i in range(mask_arr.shape[0]):\n",
    "            token_indices = torch.nonzero(mask_arr[i]).flatten().tolist()\n",
    "            for token_idx in token_indices:\n",
    "                prob = random.random()\n",
    "                if prob < 0.8:\n",
    "                    masked_input_ids[i, token_idx] = self.tokenizer.mask_token_id\n",
    "                elif prob < 0.9:\n",
    "                    masked_input_ids[i, token_idx] = random.randint(0, self.tokenizer.vocab_size - 1)\n",
    "    \n",
    "        features[\"input_ids\"] = masked_input_ids\n",
    "        features[\"labels\"] = labels\n",
    "    \n",
    "        return features\n"
   ]
  },
  {
   "cell_type": "markdown",
   "metadata": {},
   "source": [
    "# Creation of Dataset"
   ]
  },
  {
   "cell_type": "code",
   "execution_count": 3,
   "metadata": {
    "id": "X3-PfaaaCdeD"
   },
   "outputs": [],
   "source": [
    "class CombinedMLMNSPDataset(Dataset):\n",
    "    \"\"\"\n",
    "    A custom PyTorch Dataset that combines data for both Masked Language Modeling (MLM)\n",
    "    and Next Sentence Prediction (NSP) tasks. Each item returned contains all necessary\n",
    "    fields for BERT-style pretraining.\n",
    "\n",
    "    MLM examples will include 'labels' for token prediction and a dummy -100 value for\n",
    "    'next_sentence_label'. NSP examples will contain 'next_sentence_label' and 'labels'\n",
    "    filled with -100 to be ignored during MLM loss.\n",
    "\n",
    "    Args:\n",
    "        mlm_encodings (Dict[str, torch.Tensor]): Encoded inputs for the MLM task.\n",
    "            Should include 'input_ids', 'attention_mask', 'token_type_ids', and 'labels'.\n",
    "        nsp_encodings (Dict[str, torch.Tensor]): Encoded inputs for the NSP task.\n",
    "            Should include 'input_ids', 'attention_mask', 'token_type_ids', and 'next_sentence_label'.\n",
    "\n",
    "    Attributes:\n",
    "        examples (List[Dict[str, torch.Tensor]]): A combined and shuffled list of training examples.\n",
    "    \"\"\"\n",
    "    def __init__(self, mlm_encodings):\n",
    "        self.examples = []\n",
    "\n",
    "        # Add MLM examples with dummy -100 NSP label\n",
    "        for i in range(len(mlm_encodings[\"input_ids\"])):\n",
    "            self.examples.append({\n",
    "                \"input_ids\": mlm_encodings[\"input_ids\"][i].detach().clone(),\n",
    "                \"attention_mask\": torch.tensor(mlm_encodings[\"attention_mask\"][i]).detach().clone(),\n",
    "                \"labels\": torch.tensor(mlm_encodings[\"labels\"][i]).detach().clone()\n",
    "            })\n",
    "\n",
    "\n",
    "    def __len__(self):\n",
    "        \"\"\"Returns the total number of combined training examples.\"\"\"\n",
    "        return len(self.examples)\n",
    "\n",
    "    def __getitem__(self, idx):\n",
    "        \"\"\"\n",
    "        Retrieves a single training example at the specified index.\n",
    "\n",
    "        Args:\n",
    "            idx (int): Index of the item to retrieve.\n",
    "\n",
    "        Returns:\n",
    "            Dict[str, torch.Tensor]: Dictionary containing:\n",
    "                - 'input_ids'\n",
    "                - 'attention_mask'\n",
    "                - 'token_type_ids'\n",
    "                - 'labels'\n",
    "                - 'next_sentence_label'\n",
    "        \"\"\"\n",
    "        return self.examples[idx]\n"
   ]
  },
  {
   "cell_type": "markdown",
   "metadata": {},
   "source": [
    "# Training of Model"
   ]
  },
  {
   "cell_type": "markdown",
   "metadata": {},
   "source": [
    "In this section, we perform the training of the BERT model on both Masked Language Modeling (MLM) and Next Sentence Prediction (NSP) objectives simultaneously.\n",
    "\n",
    "The training loop in the method  train terates over the dataset in mini-batches, transferring the inputs and labels to the computation device (CPU or GPU). For each batch, it computes the combined loss from both tasks, performs backpropagation, and updates the model parameters using the AdamW optimizer.\n",
    "\n",
    "The use of the progress bar (via tqdm) allows real-time monitoring of the training process, displaying the current epoch and the loss value to track convergence."
   ]
  },
  {
   "cell_type": "code",
   "execution_count": 4,
   "metadata": {},
   "outputs": [],
   "source": [
    "class DAPTTrainer:\n",
    "    \"\"\"\n",
    "    A training utility for Domain-Adaptive Pretraining (DAPT) of BERT using both\n",
    "    Masked Language Modeling (MLM) and Next Sentence Prediction (NSP) objectives.\n",
    "\n",
    "    Attributes:\n",
    "        model (BertForPreTraining): BERT model with MLM + NSP heads.\n",
    "        dataset (Dataset): PyTorch dataset with combined MLM and NSP data.\n",
    "        batch_size (int): Batch size used for training.\n",
    "        epochs (int): Number of full training passes over the dataset.\n",
    "        lr (float): Learning rate for AdamW optimizer.\n",
    "        device (torch.device): Training device (CPU or CUDA).\n",
    "        # checkpoint_dir (str): Directory to store training checkpoints.\n",
    "        # checkpoint_interval (int): Interval in epochs to save checkpoints.\n",
    "        dataloader (DataLoader): PyTorch DataLoader for the training dataset.\n",
    "        optimizer (AdamW): Optimizer used for training.\n",
    "        scheduler (Scheduler): Learning rate scheduler.\n",
    "        start_epoch (int): Starting epoch (used when resuming training).\n",
    "    \"\"\"\n",
    "\n",
    "    def __init__(\n",
    "        self,\n",
    "        model: BertForPreTraining,\n",
    "        dataset: Dataset,\n",
    "        batch_size: int = 16,\n",
    "        epochs: int = 2,\n",
    "        lr: float = 1e-5,\n",
    "        device: torch.device = None,\n",
    "        resume_from_checkpoint: str = None,  \n",
    "        plot_save_path: str = None\n",
    "    ):\n",
    "        self.model = model\n",
    "        self.dataset = dataset\n",
    "        self.batch_size = batch_size\n",
    "        self.epochs = epochs\n",
    "        self.lr = lr\n",
    "        self.device = device if device else torch.device(\"cuda\" if torch.cuda.is_available() else \"cpu\")\n",
    "        self.plot_save_path = plot_save_path\n",
    "\n",
    "        self.model.to(self.device)\n",
    "        self.optimizer = AdamW(self.model.parameters(), lr=self.lr)\n",
    "        self.dataloader = DataLoader(self.dataset, batch_size=self.batch_size, shuffle=True, drop_last=True)\n",
    "\n",
    "        total_steps = len(self.dataloader) * self.epochs\n",
    "        self.scheduler = get_linear_schedule_with_warmup(\n",
    "            self.optimizer,\n",
    "            num_warmup_steps=int(0.1 * total_steps),\n",
    "            num_training_steps=total_steps\n",
    "        )\n",
    "\n",
    "        self.start_epoch = 0\n",
    "\n",
    "        self.model.train()\n",
    "\n",
    "    \n",
    "    def evaluate(self, val_dataloader):\n",
    "        self.model.eval()\n",
    "        total_loss = 0.0\n",
    "        count = 0\n",
    "        with torch.no_grad():\n",
    "            for batch in val_dataloader:\n",
    "                input_ids = batch[\"input_ids\"].to(self.device)\n",
    "                attention_mask = batch[\"attention_mask\"].to(self.device)\n",
    "                labels = batch[\"labels\"].to(self.device)\n",
    "    \n",
    "                outputs = self.model(\n",
    "                    input_ids,\n",
    "                    attention_mask=attention_mask,\n",
    "                    labels=labels\n",
    "                )\n",
    "                total_loss += outputs.loss.item()\n",
    "                count += 1\n",
    "        self.model.train()\n",
    "        return total_loss / count if count > 0 else float('inf')\n",
    "        \n",
    "\n",
    "    def train(self, log_every_n_steps: int = 100, save_loss_path: str = None, val_dataloader=None, val_every_n_steps=500) -> None:\n",
    "        \"\"\"\n",
    "        Training loop con logging della loss ogni 'log_every_n_steps' batch.\n",
    "        Alla fine salva la lista delle loss su file json se save_loss_path è fornito.\n",
    "        \"\"\"\n",
    "\n",
    "        import time\n",
    "\n",
    "        self.step_losses = [] \n",
    "        self.val_losses = []\n",
    "        step_loss_accum = 0.0\n",
    "        step_count = 0\n",
    "\n",
    "        for epoch in range(self.start_epoch, self.epochs):\n",
    "            epoch_start = time.time()\n",
    "            loop = tqdm(self.dataloader, leave=True)\n",
    "            total_loss = 0.0\n",
    "\n",
    "            for batch in loop:\n",
    "                self.optimizer.zero_grad()\n",
    "\n",
    "                input_ids = batch[\"input_ids\"].to(self.device)\n",
    "                attention_mask = batch[\"attention_mask\"].to(self.device)\n",
    "                labels = batch[\"labels\"].to(self.device)\n",
    "\n",
    "                outputs = self.model(\n",
    "                    input_ids,\n",
    "                    attention_mask=attention_mask,\n",
    "                    labels=labels\n",
    "                )\n",
    "                loss = outputs.loss\n",
    "                loss.backward()\n",
    "                self.optimizer.step()\n",
    "                self.scheduler.step()\n",
    "\n",
    "                loss_item = loss.item()\n",
    "                total_loss += loss_item\n",
    "                step_loss_accum += loss_item\n",
    "                step_count += 1\n",
    "\n",
    "                if step_count % log_every_n_steps == 0:\n",
    "                    avg_loss = step_loss_accum / log_every_n_steps\n",
    "                    self.step_losses.append(avg_loss)\n",
    "                    print(f\"Step {step_count}: Avg Loss {avg_loss:.4f}\")\n",
    "                    step_loss_accum = 0.0\n",
    "\n",
    "\n",
    "                if val_dataloader is not None and step_count % val_every_n_steps == 0:\n",
    "                    val_loss = self.evaluate(val_dataloader)\n",
    "                    print(f\"Validation loss after step {step_count}: {val_loss:.4f}\")\n",
    "                    self.val_losses.append(val_loss)\n",
    "\n",
    "\n",
    "                loop.set_description(f\"Epoch {epoch+1}/{self.epochs}\")\n",
    "                loop.set_postfix(loss=loss_item)\n",
    "\n",
    "            avg_epoch_loss = total_loss / len(self.dataloader)\n",
    "            epoch_time = time.time() - epoch_start\n",
    "            print(f\"Epoch {epoch+1} completed in {epoch_time:.2f}s - Avg Loss: {avg_epoch_loss:.4f}\")\n",
    "\n",
    "        print(\"Training finished.\")\n",
    "\n",
    "        if save_loss_path:\n",
    "            os.makedirs(os.path.dirname(save_loss_path), exist_ok=True)\n",
    "            # save both train and val loss in a dict\n",
    "            loss_data = {\n",
    "                \"train_loss\": self.step_losses,\n",
    "                \"val_loss\": self.val_losses\n",
    "            }\n",
    "            with open(save_loss_path, \"w\") as f:\n",
    "                json.dump(loss_data, f)\n",
    "            print(f\"Train e Validation loss salvate in {save_loss_path}\")\n",
    "\n",
    "        steps_train = list(range(log_every_n_steps, log_every_n_steps * len(self.step_losses) + 1, log_every_n_steps))\n",
    "        steps_val = list(range(val_every_n_steps, val_every_n_steps * len(self.val_losses) + 1, val_every_n_steps))\n",
    "\n",
    "        plt.figure(figsize=(10, 6))\n",
    "        plt.plot(steps_train, self.step_losses, marker='o', label='Training Loss')\n",
    "        if self.val_losses:\n",
    "            plt.plot(steps_val, self.val_losses, marker='x', label='Validation Loss')\n",
    "        plt.xlabel(\"Step\")\n",
    "        plt.ylabel(\"Loss\")\n",
    "        plt.grid(True)\n",
    "        #plt.title(\"Training and Validation Loss\")\n",
    "        plt.legend()\n",
    "\n",
    "        if self.plot_save_path:\n",
    "            os.makedirs(os.path.dirname(self.plot_save_path), exist_ok=True)\n",
    "            plt.savefig(self.plot_save_path)\n",
    "            print(f\"Plot saved in {self.plot_save_path}\")\n",
    "        else:\n",
    "            plt.show()"
   ]
  },
  {
   "cell_type": "code",
   "execution_count": 5,
   "metadata": {
    "colab": {
     "background_save": true,
     "base_uri": "https://localhost:8080/",
     "height": 425,
     "referenced_widgets": [
      "69c77a4aa1ad4298a03080d68257d510",
      "b107e0493252478484cb9db3176834a6",
      "319b71cc959f43db8869b2050b68161a",
      "c66b235e6462493ea2daa85b850cfd85",
      "87384a56700846f3a7c3855014dda95c",
      "0bfe94ff02a64aaa823afc6d480a799d",
      "7727700bb99f42ea8feab6cddf61018a",
      "4e3d7d950a3b4202b112c2d24b3fe47e",
      "f5b953aefcd040b9ae84aefca15fecdd",
      "e89707a3d58a4a8485b3b40d3bcc892f",
      "982a2a37549840ba98cfcb8a3b0e37a1",
      "1205141f3c9649778f34841d5b6e7a75",
      "c5dca2acba0546428804fe8ff2b7af5b",
      "53ddf4467960421884dc6358595c1eee",
      "270345395b3b4ff586906f1e36828f61",
      "6c63761e923547d28922ef6874609d3d",
      "13b05895925f4df7b90040d99ce7f6db",
      "58a2f32497624500a531736b28d29d66",
      "d653a9dcdce44552aaff69a6c39ca4e1",
      "c7489f24fea549c2a6c562a8aeff634e",
      "33f0e56711de469a87a3288d7edde77c",
      "ec43420f93f3423eae05dea39c519527",
      "633881397207495caaff4b9f10117f85",
      "96cf078e9169424087f8c1186825cefe",
      "f13fd4e50b9d4465bc449f748b97a67b",
      "3186c4604fd4411c887c0fec8e13dab4",
      "f84dd467111143faaeda9b2c563dc23a",
      "4d668ffc0d444db59a920306a507587c",
      "56101ae052c246d6a6b4206556e2de22",
      "0a003d3ab36943c9a1e4fb3354a2bcf6",
      "b0037d0db79a4ed2b7f407f2c3b453d6",
      "163145030aad4085916f0fe1516a6314",
      "48245967dba84e5fb64662d44d464623",
      "a9bdc4d2f3e14467800519f653d1c530",
      "4d5c978de041452b8f72992014617c24",
      "885d8157ccab449a9fecb4bb43eaddcc",
      "5d755a3e83804f4eadade68b3c36d80f",
      "93d952609d6a40499213ceb4e4642d6d",
      "5edf2b8c92be4cd8a15f0c46ef5d83d2",
      "ce5f8f763a754a16afef95b7d8cd6566",
      "529d27835db244bb97132d9689915ec0",
      "01662d2c1a4a499aba71d883291ec3d6",
      "0cf3e18ffdec4c65bcbfc6a65d7d5725",
      "1de4036b285a4f8e982f70b90333a568"
     ]
    },
    "id": "wQ9VGmFiAU26",
    "outputId": "37a0716c-fa20-4516-c749-30a40d020d08",
    "scrolled": true
   },
   "outputs": [
    {
     "name": "stderr",
     "output_type": "stream",
     "text": [
      "Some weights of the model checkpoint at ../Models/bert-base-uncased/models--bert-base-uncased/snapshots/86b5e0934494bd15c9632b12f734a8a67f723594 were not used when initializing BertForMaskedLM: ['bert.pooler.dense.bias', 'bert.pooler.dense.weight', 'cls.seq_relationship.bias', 'cls.seq_relationship.weight']\n",
      "- This IS expected if you are initializing BertForMaskedLM from the checkpoint of a model trained on another task or with another architecture (e.g. initializing a BertForSequenceClassification model from a BertForPreTraining model).\n",
      "- This IS NOT expected if you are initializing BertForMaskedLM from the checkpoint of a model that you expect to be exactly identical (initializing a BertForSequenceClassification model from a BertForSequenceClassification model).\n"
     ]
    },
    {
     "name": "stdout",
     "output_type": "stream",
     "text": [
      "\n",
      " Percentage of masked tokens: 15.03% (281492 on 1873118 valid tokens)\n"
     ]
    },
    {
     "name": "stderr",
     "output_type": "stream",
     "text": [
      "/tmp/ipykernel_4133628/2180983160.py:27: UserWarning: To copy construct from a tensor, it is recommended to use sourceTensor.clone().detach() or sourceTensor.clone().detach().requires_grad_(True), rather than torch.tensor(sourceTensor).\n",
      "  \"attention_mask\": torch.tensor(mlm_encodings[\"attention_mask\"][i]).detach().clone(),\n",
      "/tmp/ipykernel_4133628/2180983160.py:28: UserWarning: To copy construct from a tensor, it is recommended to use sourceTensor.clone().detach() or sourceTensor.clone().detach().requires_grad_(True), rather than torch.tensor(sourceTensor).\n",
      "  \"labels\": torch.tensor(mlm_encodings[\"labels\"][i]).detach().clone()\n",
      "Epoch 1/19:  16%|██████████▏                                                     | 100/625 [01:09<06:06,  1.43it/s, loss=2.19]"
     ]
    },
    {
     "name": "stdout",
     "output_type": "stream",
     "text": [
      "Step 100: Avg Loss 2.5834\n"
     ]
    },
    {
     "name": "stderr",
     "output_type": "stream",
     "text": [
      "Epoch 1/19:  32%|████████████████████▍                                           | 200/625 [02:19<04:57,  1.43it/s, loss=2.41]"
     ]
    },
    {
     "name": "stdout",
     "output_type": "stream",
     "text": [
      "Step 200: Avg Loss 2.4184\n"
     ]
    },
    {
     "name": "stderr",
     "output_type": "stream",
     "text": [
      "Epoch 1/19:  48%|███████████████████████████████▏                                 | 300/625 [03:29<03:47,  1.43it/s, loss=2.1]"
     ]
    },
    {
     "name": "stdout",
     "output_type": "stream",
     "text": [
      "Step 300: Avg Loss 2.2949\n"
     ]
    },
    {
     "name": "stderr",
     "output_type": "stream",
     "text": [
      "Epoch 1/19:  64%|████████████████████████████████████████▉                       | 400/625 [04:39<02:37,  1.43it/s, loss=2.25]"
     ]
    },
    {
     "name": "stdout",
     "output_type": "stream",
     "text": [
      "Step 400: Avg Loss 2.2143\n"
     ]
    },
    {
     "name": "stderr",
     "output_type": "stream",
     "text": [
      "Epoch 1/19:  80%|███████████████████████████████████████████████████             | 499/625 [05:48<01:28,  1.43it/s, loss=2.06]"
     ]
    },
    {
     "name": "stdout",
     "output_type": "stream",
     "text": [
      "Step 500: Avg Loss 2.1839\n"
     ]
    },
    {
     "name": "stderr",
     "output_type": "stream",
     "text": [
      "Epoch 1/19:  80%|████████████████████████████████████████████████▊            | 500/625 [11:45<3:44:12, 107.62s/it, loss=1.92]"
     ]
    },
    {
     "name": "stdout",
     "output_type": "stream",
     "text": [
      "Validation loss after step 500: 2.0232\n"
     ]
    },
    {
     "name": "stderr",
     "output_type": "stream",
     "text": [
      "Epoch 1/19:  96%|█████████████████████████████████████████████████████████████▍  | 600/625 [12:55<00:17,  1.43it/s, loss=2.03]"
     ]
    },
    {
     "name": "stdout",
     "output_type": "stream",
     "text": [
      "Step 600: Avg Loss 2.1411\n"
     ]
    },
    {
     "name": "stderr",
     "output_type": "stream",
     "text": [
      "Epoch 1/19: 100%|████████████████████████████████████████████████████████████████| 625/625 [13:13<00:00,  1.27s/it, loss=2.33]\n"
     ]
    },
    {
     "name": "stdout",
     "output_type": "stream",
     "text": [
      "Epoch 1 completed in 793.06s - Avg Loss: 2.2988\n"
     ]
    },
    {
     "name": "stderr",
     "output_type": "stream",
     "text": [
      "Epoch 2/19:  12%|███████▊                                                         | 75/625 [00:52<06:24,  1.43it/s, loss=2.18]"
     ]
    },
    {
     "name": "stdout",
     "output_type": "stream",
     "text": [
      "Step 700: Avg Loss 2.0859\n"
     ]
    },
    {
     "name": "stderr",
     "output_type": "stream",
     "text": [
      "Epoch 2/19:  28%|█████████████████▉                                              | 175/625 [02:02<05:14,  1.43it/s, loss=1.89]"
     ]
    },
    {
     "name": "stdout",
     "output_type": "stream",
     "text": [
      "Step 800: Avg Loss 2.0427\n"
     ]
    },
    {
     "name": "stderr",
     "output_type": "stream",
     "text": [
      "Epoch 2/19:  44%|████████████████████████████▏                                   | 275/625 [03:12<04:04,  1.43it/s, loss=2.28]"
     ]
    },
    {
     "name": "stdout",
     "output_type": "stream",
     "text": [
      "Step 900: Avg Loss 2.0308\n"
     ]
    },
    {
     "name": "stderr",
     "output_type": "stream",
     "text": [
      "Epoch 2/19:  60%|██████████████████████████████████████▉                          | 374/625 [04:21<02:55,  1.43it/s, loss=1.8]"
     ]
    },
    {
     "name": "stdout",
     "output_type": "stream",
     "text": [
      "Step 1000: Avg Loss 2.0221\n"
     ]
    },
    {
     "name": "stderr",
     "output_type": "stream",
     "text": [
      "Epoch 2/19:  60%|████████████████████████████████████▌                        | 375/625 [10:18<7:28:38, 107.68s/it, loss=2.06]"
     ]
    },
    {
     "name": "stdout",
     "output_type": "stream",
     "text": [
      "Validation loss after step 1000: 1.9387\n"
     ]
    },
    {
     "name": "stderr",
     "output_type": "stream",
     "text": [
      "Epoch 2/19:  76%|████████████████████████████████████████████████▋               | 475/625 [11:28<01:44,  1.43it/s, loss=2.33]"
     ]
    },
    {
     "name": "stdout",
     "output_type": "stream",
     "text": [
      "Step 1100: Avg Loss 2.0203\n"
     ]
    },
    {
     "name": "stderr",
     "output_type": "stream",
     "text": [
      "Epoch 2/19:  92%|██████████████████████████████████████████████████████████▉     | 575/625 [12:38<00:34,  1.43it/s, loss=2.01]"
     ]
    },
    {
     "name": "stdout",
     "output_type": "stream",
     "text": [
      "Step 1200: Avg Loss 1.9733\n"
     ]
    },
    {
     "name": "stderr",
     "output_type": "stream",
     "text": [
      "Epoch 2/19: 100%|████████████████████████████████████████████████████████████████| 625/625 [13:13<00:00,  1.27s/it, loss=1.87]\n"
     ]
    },
    {
     "name": "stdout",
     "output_type": "stream",
     "text": [
      "Epoch 2 completed in 793.51s - Avg Loss: 2.0231\n"
     ]
    },
    {
     "name": "stderr",
     "output_type": "stream",
     "text": [
      "Epoch 3/19:   8%|█████▏                                                           | 50/625 [00:34<06:40,  1.44it/s, loss=1.64]"
     ]
    },
    {
     "name": "stdout",
     "output_type": "stream",
     "text": [
      "Step 1300: Avg Loss 1.9048\n"
     ]
    },
    {
     "name": "stderr",
     "output_type": "stream",
     "text": [
      "Epoch 3/19:  24%|███████████████▌                                                 | 150/625 [01:44<05:30,  1.44it/s, loss=2.1]"
     ]
    },
    {
     "name": "stdout",
     "output_type": "stream",
     "text": [
      "Step 1400: Avg Loss 1.7794\n"
     ]
    },
    {
     "name": "stderr",
     "output_type": "stream",
     "text": [
      "Epoch 3/19:  40%|█████████████████████████▉                                       | 249/625 [02:53<04:22,  1.43it/s, loss=1.7]"
     ]
    },
    {
     "name": "stdout",
     "output_type": "stream",
     "text": [
      "Step 1500: Avg Loss 1.7893\n"
     ]
    },
    {
     "name": "stderr",
     "output_type": "stream",
     "text": [
      "Epoch 3/19:  40%|████████████████████████                                    | 250/625 [08:51<11:13:10, 107.71s/it, loss=1.74]"
     ]
    },
    {
     "name": "stdout",
     "output_type": "stream",
     "text": [
      "Validation loss after step 1500: 1.9135\n"
     ]
    },
    {
     "name": "stderr",
     "output_type": "stream",
     "text": [
      "Epoch 3/19:  56%|███████████████████████████████████▊                            | 350/625 [10:01<03:12,  1.43it/s, loss=1.71]"
     ]
    },
    {
     "name": "stdout",
     "output_type": "stream",
     "text": [
      "Step 1600: Avg Loss 1.7838\n"
     ]
    },
    {
     "name": "stderr",
     "output_type": "stream",
     "text": [
      "Epoch 3/19:  72%|██████████████████████████████████████████████                  | 450/625 [11:11<02:02,  1.43it/s, loss=2.05]"
     ]
    },
    {
     "name": "stdout",
     "output_type": "stream",
     "text": [
      "Step 1700: Avg Loss 1.8018\n"
     ]
    },
    {
     "name": "stderr",
     "output_type": "stream",
     "text": [
      "Epoch 3/19:  88%|██████████████████████████████████████████████████████████▉        | 550/625 [12:21<00:52,  1.43it/s, loss=2]"
     ]
    },
    {
     "name": "stdout",
     "output_type": "stream",
     "text": [
      "Step 1800: Avg Loss 1.7967\n"
     ]
    },
    {
     "name": "stderr",
     "output_type": "stream",
     "text": [
      "Epoch 3/19: 100%|█████████████████████████████████████████████████████████████████| 625/625 [13:08<00:00,  1.26s/it, loss=1.7]\n"
     ]
    },
    {
     "name": "stdout",
     "output_type": "stream",
     "text": [
      "Epoch 3 completed in 788.95s - Avg Loss: 1.7895\n"
     ]
    },
    {
     "name": "stderr",
     "output_type": "stream",
     "text": [
      "Epoch 4/19:   4%|██▌                                                              | 25/625 [00:15<06:25,  1.56it/s, loss=1.57]"
     ]
    },
    {
     "name": "stdout",
     "output_type": "stream",
     "text": [
      "Step 1900: Avg Loss 1.7229\n"
     ]
    },
    {
     "name": "stderr",
     "output_type": "stream",
     "text": [
      "Epoch 4/19:  20%|████████████▋                                                   | 124/625 [01:20<05:50,  1.43it/s, loss=1.26]"
     ]
    },
    {
     "name": "stdout",
     "output_type": "stream",
     "text": [
      "Step 2000: Avg Loss 1.5332\n"
     ]
    },
    {
     "name": "stderr",
     "output_type": "stream",
     "text": [
      "Epoch 4/19:  20%|████████████                                                | 125/625 [07:17<14:57:02, 107.64s/it, loss=1.65]"
     ]
    },
    {
     "name": "stdout",
     "output_type": "stream",
     "text": [
      "Validation loss after step 2000: 1.9101\n"
     ]
    },
    {
     "name": "stderr",
     "output_type": "stream",
     "text": [
      "Epoch 4/19:  36%|███████████████████████                                         | 225/625 [08:27<04:39,  1.43it/s, loss=1.77]"
     ]
    },
    {
     "name": "stdout",
     "output_type": "stream",
     "text": [
      "Step 2100: Avg Loss 1.5655\n"
     ]
    },
    {
     "name": "stderr",
     "output_type": "stream",
     "text": [
      "Epoch 4/19:  52%|█████████████████████████████████▎                              | 325/625 [09:37<03:29,  1.43it/s, loss=1.45]"
     ]
    },
    {
     "name": "stdout",
     "output_type": "stream",
     "text": [
      "Step 2200: Avg Loss 1.5720\n"
     ]
    },
    {
     "name": "stderr",
     "output_type": "stream",
     "text": [
      "Epoch 4/19:  68%|███████████████████████████████████████████▌                    | 425/625 [10:47<02:19,  1.43it/s, loss=1.59]"
     ]
    },
    {
     "name": "stdout",
     "output_type": "stream",
     "text": [
      "Step 2300: Avg Loss 1.5736\n"
     ]
    },
    {
     "name": "stderr",
     "output_type": "stream",
     "text": [
      "Epoch 4/19:  84%|█████████████████████████████████████████████████████▊          | 525/625 [11:57<01:09,  1.43it/s, loss=1.56]"
     ]
    },
    {
     "name": "stdout",
     "output_type": "stream",
     "text": [
      "Step 2400: Avg Loss 1.5795\n"
     ]
    },
    {
     "name": "stderr",
     "output_type": "stream",
     "text": [
      "Epoch 4/19: 100%|███████████████████████████████████████████████████████████████▉| 624/625 [13:06<00:00,  1.43it/s, loss=1.74]"
     ]
    },
    {
     "name": "stdout",
     "output_type": "stream",
     "text": [
      "Step 2500: Avg Loss 1.5834\n"
     ]
    },
    {
     "name": "stderr",
     "output_type": "stream",
     "text": [
      "Epoch 4/19: 100%|████████████████████████████████████████████████████████████████| 625/625 [19:03<00:00,  1.83s/it, loss=1.63]\n"
     ]
    },
    {
     "name": "stdout",
     "output_type": "stream",
     "text": [
      "Validation loss after step 2500: 1.8977\n",
      "Epoch 4 completed in 1143.89s - Avg Loss: 1.5681\n"
     ]
    },
    {
     "name": "stderr",
     "output_type": "stream",
     "text": [
      "Epoch 5/19:  16%|██████████▏                                                     | 100/625 [01:09<06:06,  1.43it/s, loss=1.27]"
     ]
    },
    {
     "name": "stdout",
     "output_type": "stream",
     "text": [
      "Step 2600: Avg Loss 1.3591\n"
     ]
    },
    {
     "name": "stderr",
     "output_type": "stream",
     "text": [
      "Epoch 5/19:  32%|████████████████████▍                                           | 200/625 [02:19<04:57,  1.43it/s, loss=1.57]"
     ]
    },
    {
     "name": "stdout",
     "output_type": "stream",
     "text": [
      "Step 2700: Avg Loss 1.3673\n"
     ]
    },
    {
     "name": "stderr",
     "output_type": "stream",
     "text": [
      "Epoch 5/19:  48%|██████████████████████████████▋                                 | 300/625 [03:29<03:46,  1.43it/s, loss=1.68]"
     ]
    },
    {
     "name": "stdout",
     "output_type": "stream",
     "text": [
      "Step 2800: Avg Loss 1.3856\n"
     ]
    },
    {
     "name": "stderr",
     "output_type": "stream",
     "text": [
      "Epoch 5/19:  64%|████████████████████████████████████████▉                       | 400/625 [04:39<02:37,  1.43it/s, loss=1.45]"
     ]
    },
    {
     "name": "stdout",
     "output_type": "stream",
     "text": [
      "Step 2900: Avg Loss 1.3892\n"
     ]
    },
    {
     "name": "stderr",
     "output_type": "stream",
     "text": [
      "Epoch 5/19:  80%|███████████████████████████████████████████████████             | 499/625 [05:48<01:28,  1.43it/s, loss=1.61]"
     ]
    },
    {
     "name": "stdout",
     "output_type": "stream",
     "text": [
      "Step 3000: Avg Loss 1.4103\n"
     ]
    },
    {
     "name": "stderr",
     "output_type": "stream",
     "text": [
      "Epoch 5/19:  80%|████████████████████████████████████████████████▊            | 500/625 [11:46<3:44:18, 107.67s/it, loss=1.62]"
     ]
    },
    {
     "name": "stdout",
     "output_type": "stream",
     "text": [
      "Validation loss after step 3000: 1.9222\n"
     ]
    },
    {
     "name": "stderr",
     "output_type": "stream",
     "text": [
      "Epoch 5/19:  96%|█████████████████████████████████████████████████████████████▍  | 600/625 [12:55<00:17,  1.43it/s, loss=1.33]"
     ]
    },
    {
     "name": "stdout",
     "output_type": "stream",
     "text": [
      "Step 3100: Avg Loss 1.3969\n"
     ]
    },
    {
     "name": "stderr",
     "output_type": "stream",
     "text": [
      "Epoch 5/19: 100%|████████████████████████████████████████████████████████████████| 625/625 [13:13<00:00,  1.27s/it, loss=1.39]\n"
     ]
    },
    {
     "name": "stdout",
     "output_type": "stream",
     "text": [
      "Epoch 5 completed in 793.47s - Avg Loss: 1.3855\n"
     ]
    },
    {
     "name": "stderr",
     "output_type": "stream",
     "text": [
      "Epoch 6/19:  12%|███████▉                                                          | 75/625 [00:52<06:25,  1.43it/s, loss=1.1]"
     ]
    },
    {
     "name": "stdout",
     "output_type": "stream",
     "text": [
      "Step 3200: Avg Loss 1.2698\n"
     ]
    },
    {
     "name": "stderr",
     "output_type": "stream",
     "text": [
      "Epoch 6/19:  28%|█████████████████▉                                              | 175/625 [02:02<05:14,  1.43it/s, loss=1.31]"
     ]
    },
    {
     "name": "stdout",
     "output_type": "stream",
     "text": [
      "Step 3300: Avg Loss 1.2086\n"
     ]
    },
    {
     "name": "stderr",
     "output_type": "stream",
     "text": [
      "Epoch 6/19:  44%|████████████████████████████▏                                   | 275/625 [03:12<04:04,  1.43it/s, loss=1.27]"
     ]
    },
    {
     "name": "stdout",
     "output_type": "stream",
     "text": [
      "Step 3400: Avg Loss 1.2378\n"
     ]
    },
    {
     "name": "stderr",
     "output_type": "stream",
     "text": [
      "Epoch 6/19:  60%|██████████████████████████████████████▎                         | 374/625 [04:21<02:55,  1.43it/s, loss=1.27]"
     ]
    },
    {
     "name": "stdout",
     "output_type": "stream",
     "text": [
      "Step 3500: Avg Loss 1.2185\n"
     ]
    },
    {
     "name": "stderr",
     "output_type": "stream",
     "text": [
      "Epoch 6/19:  60%|████████████████████████████████████▌                        | 375/625 [10:18<7:28:39, 107.68s/it, loss=1.31]"
     ]
    },
    {
     "name": "stdout",
     "output_type": "stream",
     "text": [
      "Validation loss after step 3500: 1.9617\n"
     ]
    },
    {
     "name": "stderr",
     "output_type": "stream",
     "text": [
      "Epoch 6/19:  76%|█████████████████████████████████████████████████▍               | 475/625 [11:28<01:44,  1.43it/s, loss=1.2]"
     ]
    },
    {
     "name": "stdout",
     "output_type": "stream",
     "text": [
      "Step 3600: Avg Loss 1.2444\n"
     ]
    },
    {
     "name": "stderr",
     "output_type": "stream",
     "text": [
      "Epoch 6/19:  92%|██████████████████████████████████████████████████████████▉     | 575/625 [12:38<00:34,  1.43it/s, loss=1.08]"
     ]
    },
    {
     "name": "stdout",
     "output_type": "stream",
     "text": [
      "Step 3700: Avg Loss 1.2586\n"
     ]
    },
    {
     "name": "stderr",
     "output_type": "stream",
     "text": [
      "Epoch 6/19: 100%|████████████████████████████████████████████████████████████████| 625/625 [13:13<00:00,  1.27s/it, loss=1.16]\n"
     ]
    },
    {
     "name": "stdout",
     "output_type": "stream",
     "text": [
      "Epoch 6 completed in 793.70s - Avg Loss: 1.2334\n"
     ]
    },
    {
     "name": "stderr",
     "output_type": "stream",
     "text": [
      "Epoch 7/19:   8%|█████▏                                                           | 50/625 [00:34<06:41,  1.43it/s, loss=1.26]"
     ]
    },
    {
     "name": "stdout",
     "output_type": "stream",
     "text": [
      "Step 3800: Avg Loss 1.1610\n"
     ]
    },
    {
     "name": "stderr",
     "output_type": "stream",
     "text": [
      "Epoch 7/19:  24%|███████████████▎                                                | 150/625 [01:44<05:32,  1.43it/s, loss=1.08]"
     ]
    },
    {
     "name": "stdout",
     "output_type": "stream",
     "text": [
      "Step 3900: Avg Loss 1.0784\n"
     ]
    },
    {
     "name": "stderr",
     "output_type": "stream",
     "text": [
      "Epoch 7/19:  40%|█████████████████████████▍                                      | 249/625 [02:54<04:22,  1.43it/s, loss=1.26]"
     ]
    },
    {
     "name": "stdout",
     "output_type": "stream",
     "text": [
      "Step 4000: Avg Loss 1.0994\n"
     ]
    },
    {
     "name": "stderr",
     "output_type": "stream",
     "text": [
      "Epoch 7/19:  40%|████████████████████████                                    | 250/625 [08:51<11:12:55, 107.67s/it, loss=1.14]"
     ]
    },
    {
     "name": "stdout",
     "output_type": "stream",
     "text": [
      "Validation loss after step 4000: 2.0015\n"
     ]
    },
    {
     "name": "stderr",
     "output_type": "stream",
     "text": [
      "Epoch 7/19:  56%|███████████████████████████████████▊                            | 350/625 [10:01<03:12,  1.43it/s, loss=1.09]"
     ]
    },
    {
     "name": "stdout",
     "output_type": "stream",
     "text": [
      "Step 4100: Avg Loss 1.0894\n"
     ]
    },
    {
     "name": "stderr",
     "output_type": "stream",
     "text": [
      "Epoch 7/19:  72%|█████████████████████████████████████████████▎                 | 450/625 [11:11<02:02,  1.43it/s, loss=0.973]"
     ]
    },
    {
     "name": "stdout",
     "output_type": "stream",
     "text": [
      "Step 4200: Avg Loss 1.1023\n"
     ]
    },
    {
     "name": "stderr",
     "output_type": "stream",
     "text": [
      "Epoch 7/19:  88%|████████████████████████████████████████████████████████▎       | 550/625 [12:20<00:52,  1.43it/s, loss=1.24]"
     ]
    },
    {
     "name": "stdout",
     "output_type": "stream",
     "text": [
      "Step 4300: Avg Loss 1.1123\n"
     ]
    },
    {
     "name": "stderr",
     "output_type": "stream",
     "text": [
      "Epoch 7/19: 100%|███████████████████████████████████████████████████████████████████| 625/625 [13:13<00:00,  1.27s/it, loss=1]\n"
     ]
    },
    {
     "name": "stdout",
     "output_type": "stream",
     "text": [
      "Epoch 7 completed in 793.47s - Avg Loss: 1.0961\n"
     ]
    },
    {
     "name": "stderr",
     "output_type": "stream",
     "text": [
      "Epoch 8/19:   4%|██▌                                                              | 25/625 [00:17<06:59,  1.43it/s, loss=1.01]"
     ]
    },
    {
     "name": "stdout",
     "output_type": "stream",
     "text": [
      "Step 4400: Avg Loss 1.0767\n"
     ]
    },
    {
     "name": "stderr",
     "output_type": "stream",
     "text": [
      "Epoch 8/19:  20%|████████████▍                                                  | 124/625 [01:26<05:50,  1.43it/s, loss=0.999]"
     ]
    },
    {
     "name": "stdout",
     "output_type": "stream",
     "text": [
      "Step 4500: Avg Loss 0.9499\n"
     ]
    },
    {
     "name": "stderr",
     "output_type": "stream",
     "text": [
      "Epoch 8/19:  20%|███████████▊                                               | 125/625 [07:23<14:57:12, 107.66s/it, loss=0.907]"
     ]
    },
    {
     "name": "stdout",
     "output_type": "stream",
     "text": [
      "Validation loss after step 4500: 2.0393\n"
     ]
    },
    {
     "name": "stderr",
     "output_type": "stream",
     "text": [
      "Epoch 8/19:  36%|██████████████████████▋                                        | 225/625 [08:33<04:39,  1.43it/s, loss=0.804]"
     ]
    },
    {
     "name": "stdout",
     "output_type": "stream",
     "text": [
      "Step 4600: Avg Loss 0.9647\n"
     ]
    },
    {
     "name": "stderr",
     "output_type": "stream",
     "text": [
      "Epoch 8/19:  52%|████████████████████████████████▊                              | 325/625 [09:43<03:29,  1.44it/s, loss=0.886]"
     ]
    },
    {
     "name": "stdout",
     "output_type": "stream",
     "text": [
      "Step 4700: Avg Loss 0.9733\n"
     ]
    },
    {
     "name": "stderr",
     "output_type": "stream",
     "text": [
      "Epoch 8/19:  68%|██████████████████████████████████████████▊                    | 425/625 [10:53<02:19,  1.43it/s, loss=0.995]"
     ]
    },
    {
     "name": "stdout",
     "output_type": "stream",
     "text": [
      "Step 4800: Avg Loss 0.9806\n"
     ]
    },
    {
     "name": "stderr",
     "output_type": "stream",
     "text": [
      "Epoch 8/19:  84%|██████████████████████████████████████████████████████▌          | 525/625 [12:03<01:09,  1.43it/s, loss=1.1]"
     ]
    },
    {
     "name": "stdout",
     "output_type": "stream",
     "text": [
      "Step 4900: Avg Loss 0.9989\n"
     ]
    },
    {
     "name": "stderr",
     "output_type": "stream",
     "text": [
      "Epoch 8/19: 100%|███████████████████████████████████████████████████████████████▉| 624/625 [13:12<00:00,  1.43it/s, loss=1.08]"
     ]
    },
    {
     "name": "stdout",
     "output_type": "stream",
     "text": [
      "Step 5000: Avg Loss 0.9955\n"
     ]
    },
    {
     "name": "stderr",
     "output_type": "stream",
     "text": [
      "Epoch 8/19: 100%|████████████████████████████████████████████████████████████████| 625/625 [19:10<00:00,  1.84s/it, loss=1.02]\n"
     ]
    },
    {
     "name": "stdout",
     "output_type": "stream",
     "text": [
      "Validation loss after step 5000: 2.0319\n",
      "Epoch 8 completed in 1150.02s - Avg Loss: 0.9777\n"
     ]
    },
    {
     "name": "stderr",
     "output_type": "stream",
     "text": [
      "Epoch 9/19:  16%|██████████                                                     | 100/625 [01:09<06:06,  1.43it/s, loss=0.751]"
     ]
    },
    {
     "name": "stdout",
     "output_type": "stream",
     "text": [
      "Step 5100: Avg Loss 0.8430\n"
     ]
    },
    {
     "name": "stderr",
     "output_type": "stream",
     "text": [
      "Epoch 9/19:  32%|████████████████████▏                                          | 200/625 [02:19<04:56,  1.43it/s, loss=0.931]"
     ]
    },
    {
     "name": "stdout",
     "output_type": "stream",
     "text": [
      "Step 5200: Avg Loss 0.8712\n"
     ]
    },
    {
     "name": "stderr",
     "output_type": "stream",
     "text": [
      "Epoch 9/19:  48%|██████████████████████████████▏                                | 300/625 [03:29<03:47,  1.43it/s, loss=0.874]"
     ]
    },
    {
     "name": "stdout",
     "output_type": "stream",
     "text": [
      "Step 5300: Avg Loss 0.8751\n"
     ]
    },
    {
     "name": "stderr",
     "output_type": "stream",
     "text": [
      "Epoch 9/19:  64%|████████████████████████████████████████▉                       | 400/625 [04:39<02:37,  1.43it/s, loss=1.12]"
     ]
    },
    {
     "name": "stdout",
     "output_type": "stream",
     "text": [
      "Step 5400: Avg Loss 0.8800\n"
     ]
    },
    {
     "name": "stderr",
     "output_type": "stream",
     "text": [
      "Epoch 9/19:  80%|██████████████████████████████████████████████████▎            | 499/625 [05:48<01:28,  1.43it/s, loss=0.946]"
     ]
    },
    {
     "name": "stdout",
     "output_type": "stream",
     "text": [
      "Step 5500: Avg Loss 0.8905\n"
     ]
    },
    {
     "name": "stderr",
     "output_type": "stream",
     "text": [
      "Epoch 9/19:  80%|████████████████████████████████████████████████            | 500/625 [11:45<3:44:16, 107.65s/it, loss=0.892]"
     ]
    },
    {
     "name": "stdout",
     "output_type": "stream",
     "text": [
      "Validation loss after step 5500: 2.0680\n"
     ]
    },
    {
     "name": "stderr",
     "output_type": "stream",
     "text": [
      "Epoch 9/19:  96%|████████████████████████████████████████████████████████████▍  | 600/625 [12:55<00:17,  1.43it/s, loss=0.775]"
     ]
    },
    {
     "name": "stdout",
     "output_type": "stream",
     "text": [
      "Step 5600: Avg Loss 0.8984\n"
     ]
    },
    {
     "name": "stderr",
     "output_type": "stream",
     "text": [
      "Epoch 9/19: 100%|███████████████████████████████████████████████████████████████| 625/625 [13:13<00:00,  1.27s/it, loss=0.801]\n"
     ]
    },
    {
     "name": "stdout",
     "output_type": "stream",
     "text": [
      "Epoch 9 completed in 793.40s - Avg Loss: 0.8771\n"
     ]
    },
    {
     "name": "stderr",
     "output_type": "stream",
     "text": [
      "Epoch 10/19:  12%|███████▌                                                       | 75/625 [00:52<06:23,  1.44it/s, loss=0.722]"
     ]
    },
    {
     "name": "stdout",
     "output_type": "stream",
     "text": [
      "Step 5700: Avg Loss 0.8088\n"
     ]
    },
    {
     "name": "stderr",
     "output_type": "stream",
     "text": [
      "Epoch 10/19:  28%|█████████████████▉                                              | 175/625 [02:02<05:14,  1.43it/s, loss=0.8]"
     ]
    },
    {
     "name": "stdout",
     "output_type": "stream",
     "text": [
      "Step 5800: Avg Loss 0.7758\n"
     ]
    },
    {
     "name": "stderr",
     "output_type": "stream",
     "text": [
      "Epoch 10/19:  44%|███████████████████████████▎                                  | 275/625 [03:12<04:04,  1.43it/s, loss=0.633]"
     ]
    },
    {
     "name": "stdout",
     "output_type": "stream",
     "text": [
      "Step 5900: Avg Loss 0.7735\n"
     ]
    },
    {
     "name": "stderr",
     "output_type": "stream",
     "text": [
      "Epoch 10/19:  60%|█████████████████████████████████████                         | 374/625 [04:21<02:55,  1.43it/s, loss=0.898]"
     ]
    },
    {
     "name": "stdout",
     "output_type": "stream",
     "text": [
      "Step 6000: Avg Loss 0.7901\n"
     ]
    },
    {
     "name": "stderr",
     "output_type": "stream",
     "text": [
      "Epoch 10/19:  60%|███████████████████████████████████▍                       | 375/625 [10:18<7:28:31, 107.65s/it, loss=0.784]"
     ]
    },
    {
     "name": "stdout",
     "output_type": "stream",
     "text": [
      "Validation loss after step 6000: 2.0943\n"
     ]
    },
    {
     "name": "stderr",
     "output_type": "stream",
     "text": [
      "Epoch 10/19:  76%|███████████████████████████████████████████████               | 475/625 [11:28<01:44,  1.43it/s, loss=0.885]"
     ]
    },
    {
     "name": "stdout",
     "output_type": "stream",
     "text": [
      "Step 6100: Avg Loss 0.8039\n"
     ]
    },
    {
     "name": "stderr",
     "output_type": "stream",
     "text": [
      "Epoch 10/19:  92%|█████████████████████████████████████████████████████████     | 575/625 [12:38<00:34,  1.43it/s, loss=0.895]"
     ]
    },
    {
     "name": "stdout",
     "output_type": "stream",
     "text": [
      "Step 6200: Avg Loss 0.8021\n"
     ]
    },
    {
     "name": "stderr",
     "output_type": "stream",
     "text": [
      "Epoch 10/19: 100%|██████████████████████████████████████████████████████████████| 625/625 [13:13<00:00,  1.27s/it, loss=0.788]\n"
     ]
    },
    {
     "name": "stdout",
     "output_type": "stream",
     "text": [
      "Epoch 10 completed in 793.45s - Avg Loss: 0.7901\n"
     ]
    },
    {
     "name": "stderr",
     "output_type": "stream",
     "text": [
      "Epoch 11/19:   8%|█████                                                          | 50/625 [00:34<06:41,  1.43it/s, loss=0.847]"
     ]
    },
    {
     "name": "stdout",
     "output_type": "stream",
     "text": [
      "Step 6300: Avg Loss 0.7672\n"
     ]
    },
    {
     "name": "stderr",
     "output_type": "stream",
     "text": [
      "Epoch 11/19:  24%|██████████████▉                                               | 150/625 [01:44<05:32,  1.43it/s, loss=0.685]"
     ]
    },
    {
     "name": "stdout",
     "output_type": "stream",
     "text": [
      "Step 6400: Avg Loss 0.6971\n"
     ]
    },
    {
     "name": "stderr",
     "output_type": "stream",
     "text": [
      "Epoch 11/19:  40%|████████████████████████▋                                     | 249/625 [02:54<04:23,  1.43it/s, loss=0.755]"
     ]
    },
    {
     "name": "stdout",
     "output_type": "stream",
     "text": [
      "Step 6500: Avg Loss 0.6980\n"
     ]
    },
    {
     "name": "stderr",
     "output_type": "stream",
     "text": [
      "Epoch 11/19:  40%|███████████████████████▏                                  | 250/625 [08:51<11:12:49, 107.65s/it, loss=0.839]"
     ]
    },
    {
     "name": "stdout",
     "output_type": "stream",
     "text": [
      "Validation loss after step 6500: 2.1197\n"
     ]
    },
    {
     "name": "stderr",
     "output_type": "stream",
     "text": [
      "Epoch 11/19:  56%|██████████████████████████████████▋                           | 350/625 [10:01<03:12,  1.43it/s, loss=0.817]"
     ]
    },
    {
     "name": "stdout",
     "output_type": "stream",
     "text": [
      "Step 6600: Avg Loss 0.7090\n"
     ]
    },
    {
     "name": "stderr",
     "output_type": "stream",
     "text": [
      "Epoch 11/19:  72%|████████████████████████████████████████████▋                 | 450/625 [11:11<02:02,  1.43it/s, loss=0.704]"
     ]
    },
    {
     "name": "stdout",
     "output_type": "stream",
     "text": [
      "Step 6700: Avg Loss 0.7243\n"
     ]
    },
    {
     "name": "stderr",
     "output_type": "stream",
     "text": [
      "Epoch 11/19:  88%|██████████████████████████████████████████████████████▌       | 550/625 [12:21<00:52,  1.43it/s, loss=0.817]"
     ]
    },
    {
     "name": "stdout",
     "output_type": "stream",
     "text": [
      "Step 6800: Avg Loss 0.7229\n"
     ]
    },
    {
     "name": "stderr",
     "output_type": "stream",
     "text": [
      "Epoch 11/19: 100%|██████████████████████████████████████████████████████████████| 625/625 [13:13<00:00,  1.27s/it, loss=0.763]\n"
     ]
    },
    {
     "name": "stdout",
     "output_type": "stream",
     "text": [
      "Epoch 11 completed in 793.48s - Avg Loss: 0.7144\n"
     ]
    },
    {
     "name": "stderr",
     "output_type": "stream",
     "text": [
      "Epoch 12/19:   4%|██▌                                                            | 25/625 [00:17<06:58,  1.43it/s, loss=0.604]"
     ]
    },
    {
     "name": "stdout",
     "output_type": "stream",
     "text": [
      "Step 6900: Avg Loss 0.7112\n"
     ]
    },
    {
     "name": "stderr",
     "output_type": "stream",
     "text": [
      "Epoch 12/19:  20%|████████████▎                                                 | 124/625 [01:26<05:49,  1.43it/s, loss=0.562]"
     ]
    },
    {
     "name": "stdout",
     "output_type": "stream",
     "text": [
      "Step 7000: Avg Loss 0.6451\n"
     ]
    },
    {
     "name": "stderr",
     "output_type": "stream",
     "text": [
      "Epoch 12/19:  20%|███████████▌                                              | 125/625 [07:23<14:56:56, 107.63s/it, loss=0.683]"
     ]
    },
    {
     "name": "stdout",
     "output_type": "stream",
     "text": [
      "Validation loss after step 7000: 2.1462\n"
     ]
    },
    {
     "name": "stderr",
     "output_type": "stream",
     "text": [
      "Epoch 12/19:  36%|██████████████████████▎                                       | 225/625 [08:33<04:39,  1.43it/s, loss=0.694]"
     ]
    },
    {
     "name": "stdout",
     "output_type": "stream",
     "text": [
      "Step 7100: Avg Loss 0.6424\n"
     ]
    },
    {
     "name": "stderr",
     "output_type": "stream",
     "text": [
      "Epoch 12/19:  52%|████████████████████████████████▊                              | 325/625 [09:43<03:29,  1.43it/s, loss=0.65]"
     ]
    },
    {
     "name": "stdout",
     "output_type": "stream",
     "text": [
      "Step 7200: Avg Loss 0.6519\n"
     ]
    },
    {
     "name": "stderr",
     "output_type": "stream",
     "text": [
      "Epoch 12/19:  68%|██████████████████████████████████████████▏                   | 425/625 [10:53<02:19,  1.43it/s, loss=0.706]"
     ]
    },
    {
     "name": "stdout",
     "output_type": "stream",
     "text": [
      "Step 7300: Avg Loss 0.6477\n"
     ]
    },
    {
     "name": "stderr",
     "output_type": "stream",
     "text": [
      "Epoch 12/19:  84%|████████████████████████████████████████████████████          | 525/625 [12:03<01:09,  1.43it/s, loss=0.602]"
     ]
    },
    {
     "name": "stdout",
     "output_type": "stream",
     "text": [
      "Step 7400: Avg Loss 0.6621\n"
     ]
    },
    {
     "name": "stderr",
     "output_type": "stream",
     "text": [
      "Epoch 12/19: 100%|█████████████████████████████████████████████████████████████▉| 624/625 [13:12<00:00,  1.43it/s, loss=0.757]"
     ]
    },
    {
     "name": "stdout",
     "output_type": "stream",
     "text": [
      "Step 7500: Avg Loss 0.6609\n"
     ]
    },
    {
     "name": "stderr",
     "output_type": "stream",
     "text": [
      "Epoch 12/19: 100%|██████████████████████████████████████████████████████████████| 625/625 [19:09<00:00,  1.84s/it, loss=0.654]\n"
     ]
    },
    {
     "name": "stdout",
     "output_type": "stream",
     "text": [
      "Validation loss after step 7500: 2.1519\n",
      "Epoch 12 completed in 1149.73s - Avg Loss: 0.6507\n"
     ]
    },
    {
     "name": "stderr",
     "output_type": "stream",
     "text": [
      "Epoch 13/19:  16%|█████████▉                                                    | 100/625 [01:09<06:06,  1.43it/s, loss=0.583]"
     ]
    },
    {
     "name": "stdout",
     "output_type": "stream",
     "text": [
      "Step 7600: Avg Loss 0.5886\n"
     ]
    },
    {
     "name": "stderr",
     "output_type": "stream",
     "text": [
      "Epoch 13/19:  32%|███████████████████▊                                          | 200/625 [02:19<04:57,  1.43it/s, loss=0.736]"
     ]
    },
    {
     "name": "stdout",
     "output_type": "stream",
     "text": [
      "Step 7700: Avg Loss 0.5970\n"
     ]
    },
    {
     "name": "stderr",
     "output_type": "stream",
     "text": [
      "Epoch 13/19:  48%|█████████████████████████████▊                                | 300/625 [03:29<03:47,  1.43it/s, loss=0.644]"
     ]
    },
    {
     "name": "stdout",
     "output_type": "stream",
     "text": [
      "Step 7800: Avg Loss 0.5909\n"
     ]
    },
    {
     "name": "stderr",
     "output_type": "stream",
     "text": [
      "Epoch 13/19:  64%|███████████████████████████████████████▋                      | 400/625 [04:39<02:37,  1.43it/s, loss=0.747]"
     ]
    },
    {
     "name": "stdout",
     "output_type": "stream",
     "text": [
      "Step 7900: Avg Loss 0.6089\n"
     ]
    },
    {
     "name": "stderr",
     "output_type": "stream",
     "text": [
      "Epoch 13/19:  80%|█████████████████████████████████████████████████▌            | 499/625 [05:48<01:28,  1.43it/s, loss=0.583]"
     ]
    },
    {
     "name": "stdout",
     "output_type": "stream",
     "text": [
      "Step 8000: Avg Loss 0.6066\n"
     ]
    },
    {
     "name": "stderr",
     "output_type": "stream",
     "text": [
      "Epoch 13/19:  80%|███████████████████████████████████████████████▏           | 500/625 [11:45<3:44:15, 107.65s/it, loss=0.699]"
     ]
    },
    {
     "name": "stdout",
     "output_type": "stream",
     "text": [
      "Validation loss after step 8000: 2.1678\n"
     ]
    },
    {
     "name": "stderr",
     "output_type": "stream",
     "text": [
      "Epoch 13/19:  96%|███████████████████████████████████████████████████████████▌  | 600/625 [12:55<00:17,  1.44it/s, loss=0.552]"
     ]
    },
    {
     "name": "stdout",
     "output_type": "stream",
     "text": [
      "Step 8100: Avg Loss 0.6050\n"
     ]
    },
    {
     "name": "stderr",
     "output_type": "stream",
     "text": [
      "Epoch 13/19: 100%|██████████████████████████████████████████████████████████████| 625/625 [13:13<00:00,  1.27s/it, loss=0.634]\n"
     ]
    },
    {
     "name": "stdout",
     "output_type": "stream",
     "text": [
      "Epoch 13 completed in 793.38s - Avg Loss: 0.5986\n"
     ]
    },
    {
     "name": "stderr",
     "output_type": "stream",
     "text": [
      "Epoch 14/19:  12%|███████▌                                                       | 75/625 [00:52<06:24,  1.43it/s, loss=0.662]"
     ]
    },
    {
     "name": "stdout",
     "output_type": "stream",
     "text": [
      "Step 8200: Avg Loss 0.5502\n"
     ]
    },
    {
     "name": "stderr",
     "output_type": "stream",
     "text": [
      "Epoch 14/19:  28%|█████████████████▎                                            | 175/625 [02:02<05:14,  1.43it/s, loss=0.501]"
     ]
    },
    {
     "name": "stdout",
     "output_type": "stream",
     "text": [
      "Step 8300: Avg Loss 0.5417\n"
     ]
    },
    {
     "name": "stderr",
     "output_type": "stream",
     "text": [
      "Epoch 14/19:  44%|███████████████████████████▎                                  | 275/625 [03:12<04:05,  1.43it/s, loss=0.625]"
     ]
    },
    {
     "name": "stdout",
     "output_type": "stream",
     "text": [
      "Step 8400: Avg Loss 0.5577\n"
     ]
    },
    {
     "name": "stderr",
     "output_type": "stream",
     "text": [
      "Epoch 14/19:  60%|█████████████████████████████████████                         | 374/625 [04:21<02:55,  1.43it/s, loss=0.598]"
     ]
    },
    {
     "name": "stdout",
     "output_type": "stream",
     "text": [
      "Step 8500: Avg Loss 0.5565\n"
     ]
    },
    {
     "name": "stderr",
     "output_type": "stream",
     "text": [
      "Epoch 14/19:  60%|███████████████████████████████████▍                       | 375/625 [10:18<7:28:31, 107.65s/it, loss=0.511]"
     ]
    },
    {
     "name": "stdout",
     "output_type": "stream",
     "text": [
      "Validation loss after step 8500: 2.1835\n"
     ]
    },
    {
     "name": "stderr",
     "output_type": "stream",
     "text": [
      "Epoch 14/19:  76%|███████████████████████████████████████████████               | 475/625 [11:28<01:44,  1.44it/s, loss=0.599]"
     ]
    },
    {
     "name": "stdout",
     "output_type": "stream",
     "text": [
      "Step 8600: Avg Loss 0.5515\n"
     ]
    },
    {
     "name": "stderr",
     "output_type": "stream",
     "text": [
      "Epoch 14/19:  92%|█████████████████████████████████████████████████████████     | 575/625 [12:38<00:34,  1.43it/s, loss=0.517]"
     ]
    },
    {
     "name": "stdout",
     "output_type": "stream",
     "text": [
      "Step 8700: Avg Loss 0.5517\n"
     ]
    },
    {
     "name": "stderr",
     "output_type": "stream",
     "text": [
      "Epoch 14/19: 100%|██████████████████████████████████████████████████████████████| 625/625 [13:11<00:00,  1.27s/it, loss=0.701]\n"
     ]
    },
    {
     "name": "stdout",
     "output_type": "stream",
     "text": [
      "Epoch 14 completed in 791.17s - Avg Loss: 0.5522\n"
     ]
    },
    {
     "name": "stderr",
     "output_type": "stream",
     "text": [
      "Epoch 15/19:   8%|█████                                                          | 50/625 [00:31<06:09,  1.56it/s, loss=0.495]"
     ]
    },
    {
     "name": "stdout",
     "output_type": "stream",
     "text": [
      "Step 8800: Avg Loss 0.5392\n"
     ]
    },
    {
     "name": "stderr",
     "output_type": "stream",
     "text": [
      "Epoch 15/19:  24%|██████████████▉                                               | 150/625 [01:35<05:08,  1.54it/s, loss=0.514]"
     ]
    },
    {
     "name": "stdout",
     "output_type": "stream",
     "text": [
      "Step 8900: Avg Loss 0.5075\n"
     ]
    },
    {
     "name": "stderr",
     "output_type": "stream",
     "text": [
      "Epoch 15/19:  40%|█████████████████████████                                      | 249/625 [02:43<04:22,  1.43it/s, loss=0.52]"
     ]
    },
    {
     "name": "stdout",
     "output_type": "stream",
     "text": [
      "Step 9000: Avg Loss 0.5147\n"
     ]
    },
    {
     "name": "stderr",
     "output_type": "stream",
     "text": [
      "Epoch 15/19:  40%|███████████████████████▏                                  | 250/625 [08:40<11:12:47, 107.65s/it, loss=0.472]"
     ]
    },
    {
     "name": "stdout",
     "output_type": "stream",
     "text": [
      "Validation loss after step 9000: 2.1982\n"
     ]
    },
    {
     "name": "stderr",
     "output_type": "stream",
     "text": [
      "Epoch 15/19:  56%|██████████████████████████████████▋                           | 350/625 [09:50<03:12,  1.43it/s, loss=0.518]"
     ]
    },
    {
     "name": "stdout",
     "output_type": "stream",
     "text": [
      "Step 9100: Avg Loss 0.5235\n"
     ]
    },
    {
     "name": "stderr",
     "output_type": "stream",
     "text": [
      "Epoch 15/19:  72%|████████████████████████████████████████████▋                 | 450/625 [11:00<02:02,  1.43it/s, loss=0.557]"
     ]
    },
    {
     "name": "stdout",
     "output_type": "stream",
     "text": [
      "Step 9200: Avg Loss 0.5175\n"
     ]
    },
    {
     "name": "stderr",
     "output_type": "stream",
     "text": [
      "Epoch 15/19:  88%|██████████████████████████████████████████████████████▌       | 550/625 [12:10<00:52,  1.43it/s, loss=0.512]"
     ]
    },
    {
     "name": "stdout",
     "output_type": "stream",
     "text": [
      "Step 9300: Avg Loss 0.5174\n"
     ]
    },
    {
     "name": "stderr",
     "output_type": "stream",
     "text": [
      "Epoch 15/19: 100%|███████████████████████████████████████████████████████████████| 625/625 [13:02<00:00,  1.25s/it, loss=0.48]\n"
     ]
    },
    {
     "name": "stdout",
     "output_type": "stream",
     "text": [
      "Epoch 15 completed in 782.69s - Avg Loss: 0.5162\n"
     ]
    },
    {
     "name": "stderr",
     "output_type": "stream",
     "text": [
      "Epoch 16/19:   4%|██▌                                                            | 25/625 [00:17<06:59,  1.43it/s, loss=0.443]"
     ]
    },
    {
     "name": "stdout",
     "output_type": "stream",
     "text": [
      "Step 9400: Avg Loss 0.5097\n"
     ]
    },
    {
     "name": "stderr",
     "output_type": "stream",
     "text": [
      "Epoch 16/19:  20%|████████████▎                                                 | 124/625 [01:26<05:50,  1.43it/s, loss=0.416]"
     ]
    },
    {
     "name": "stdout",
     "output_type": "stream",
     "text": [
      "Step 9500: Avg Loss 0.4851\n"
     ]
    },
    {
     "name": "stderr",
     "output_type": "stream",
     "text": [
      "Epoch 16/19:  20%|███████████▊                                               | 125/625 [07:23<14:57:01, 107.64s/it, loss=0.51]"
     ]
    },
    {
     "name": "stdout",
     "output_type": "stream",
     "text": [
      "Validation loss after step 9500: 2.2077\n"
     ]
    },
    {
     "name": "stderr",
     "output_type": "stream",
     "text": [
      "Epoch 16/19:  36%|██████████████████████▎                                       | 225/625 [08:33<04:40,  1.43it/s, loss=0.442]"
     ]
    },
    {
     "name": "stdout",
     "output_type": "stream",
     "text": [
      "Step 9600: Avg Loss 0.4862\n"
     ]
    },
    {
     "name": "stderr",
     "output_type": "stream",
     "text": [
      "Epoch 16/19:  52%|████████████████████████████████▏                             | 325/625 [09:43<03:30,  1.43it/s, loss=0.338]"
     ]
    },
    {
     "name": "stdout",
     "output_type": "stream",
     "text": [
      "Step 9700: Avg Loss 0.4796\n"
     ]
    },
    {
     "name": "stderr",
     "output_type": "stream",
     "text": [
      "Epoch 16/19:  68%|██████████████████████████████████████████▏                   | 425/625 [10:53<02:19,  1.43it/s, loss=0.433]"
     ]
    },
    {
     "name": "stdout",
     "output_type": "stream",
     "text": [
      "Step 9800: Avg Loss 0.4923\n"
     ]
    },
    {
     "name": "stderr",
     "output_type": "stream",
     "text": [
      "Epoch 16/19:  84%|████████████████████████████████████████████████████          | 525/625 [12:03<01:10,  1.43it/s, loss=0.512]"
     ]
    },
    {
     "name": "stdout",
     "output_type": "stream",
     "text": [
      "Step 9900: Avg Loss 0.4920\n"
     ]
    },
    {
     "name": "stderr",
     "output_type": "stream",
     "text": [
      "Epoch 16/19: 100%|█████████████████████████████████████████████████████████████▉| 624/625 [13:12<00:00,  1.43it/s, loss=0.398]"
     ]
    },
    {
     "name": "stdout",
     "output_type": "stream",
     "text": [
      "Step 10000: Avg Loss 0.4824\n"
     ]
    },
    {
     "name": "stderr",
     "output_type": "stream",
     "text": [
      "Epoch 16/19: 100%|███████████████████████████████████████████████████████████████| 625/625 [19:09<00:00,  1.84s/it, loss=0.47]\n"
     ]
    },
    {
     "name": "stdout",
     "output_type": "stream",
     "text": [
      "Validation loss after step 10000: 2.2134\n",
      "Epoch 16 completed in 1149.86s - Avg Loss: 0.4856\n"
     ]
    },
    {
     "name": "stderr",
     "output_type": "stream",
     "text": [
      "Epoch 17/19:  16%|█████████▉                                                    | 100/625 [01:09<06:07,  1.43it/s, loss=0.431]"
     ]
    },
    {
     "name": "stdout",
     "output_type": "stream",
     "text": [
      "Step 10100: Avg Loss 0.4534\n"
     ]
    },
    {
     "name": "stderr",
     "output_type": "stream",
     "text": [
      "Epoch 17/19:  32%|███████████████████▊                                          | 200/625 [02:19<04:56,  1.43it/s, loss=0.382]"
     ]
    },
    {
     "name": "stdout",
     "output_type": "stream",
     "text": [
      "Step 10200: Avg Loss 0.4539\n"
     ]
    },
    {
     "name": "stderr",
     "output_type": "stream",
     "text": [
      "Epoch 17/19:  48%|█████████████████████████████▊                                | 300/625 [03:29<03:46,  1.43it/s, loss=0.437]"
     ]
    },
    {
     "name": "stdout",
     "output_type": "stream",
     "text": [
      "Step 10300: Avg Loss 0.4555\n"
     ]
    },
    {
     "name": "stderr",
     "output_type": "stream",
     "text": [
      "Epoch 17/19:  64%|███████████████████████████████████████▋                      | 400/625 [04:39<02:37,  1.43it/s, loss=0.521]"
     ]
    },
    {
     "name": "stdout",
     "output_type": "stream",
     "text": [
      "Step 10400: Avg Loss 0.4690\n"
     ]
    },
    {
     "name": "stderr",
     "output_type": "stream",
     "text": [
      "Epoch 17/19:  80%|█████████████████████████████████████████████████▌            | 499/625 [05:48<01:28,  1.43it/s, loss=0.386]"
     ]
    },
    {
     "name": "stdout",
     "output_type": "stream",
     "text": [
      "Step 10500: Avg Loss 0.4671\n"
     ]
    },
    {
     "name": "stderr",
     "output_type": "stream",
     "text": [
      "Epoch 17/19:  80%|███████████████████████████████████████████████▏           | 500/625 [11:45<3:44:13, 107.63s/it, loss=0.539]"
     ]
    },
    {
     "name": "stdout",
     "output_type": "stream",
     "text": [
      "Validation loss after step 10500: 2.2199\n"
     ]
    },
    {
     "name": "stderr",
     "output_type": "stream",
     "text": [
      "Epoch 17/19:  96%|███████████████████████████████████████████████████████████▌  | 600/625 [12:55<00:17,  1.43it/s, loss=0.397]"
     ]
    },
    {
     "name": "stdout",
     "output_type": "stream",
     "text": [
      "Step 10600: Avg Loss 0.4615\n"
     ]
    },
    {
     "name": "stderr",
     "output_type": "stream",
     "text": [
      "Epoch 17/19: 100%|██████████████████████████████████████████████████████████████| 625/625 [13:12<00:00,  1.27s/it, loss=0.518]\n"
     ]
    },
    {
     "name": "stdout",
     "output_type": "stream",
     "text": [
      "Epoch 17 completed in 792.99s - Avg Loss: 0.4609\n"
     ]
    },
    {
     "name": "stderr",
     "output_type": "stream",
     "text": [
      "Epoch 18/19:  12%|███████▌                                                       | 75/625 [00:52<06:24,  1.43it/s, loss=0.396]"
     ]
    },
    {
     "name": "stdout",
     "output_type": "stream",
     "text": [
      "Step 10700: Avg Loss 0.4391\n"
     ]
    },
    {
     "name": "stderr",
     "output_type": "stream",
     "text": [
      "Epoch 18/19:  28%|█████████████████▎                                            | 175/625 [02:02<05:14,  1.43it/s, loss=0.488]"
     ]
    },
    {
     "name": "stdout",
     "output_type": "stream",
     "text": [
      "Step 10800: Avg Loss 0.4407\n"
     ]
    },
    {
     "name": "stderr",
     "output_type": "stream",
     "text": [
      "Epoch 18/19:  44%|███████████████████████████▎                                  | 275/625 [03:12<04:04,  1.43it/s, loss=0.425]"
     ]
    },
    {
     "name": "stdout",
     "output_type": "stream",
     "text": [
      "Step 10900: Avg Loss 0.4434\n"
     ]
    },
    {
     "name": "stderr",
     "output_type": "stream",
     "text": [
      "Epoch 18/19:  60%|█████████████████████████████████████                         | 374/625 [04:21<02:55,  1.43it/s, loss=0.415]"
     ]
    },
    {
     "name": "stdout",
     "output_type": "stream",
     "text": [
      "Step 11000: Avg Loss 0.4483\n"
     ]
    },
    {
     "name": "stderr",
     "output_type": "stream",
     "text": [
      "Epoch 18/19:  60%|████████████████████████████████████                        | 375/625 [10:18<7:28:29, 107.64s/it, loss=0.49]"
     ]
    },
    {
     "name": "stdout",
     "output_type": "stream",
     "text": [
      "Validation loss after step 11000: 2.2228\n"
     ]
    },
    {
     "name": "stderr",
     "output_type": "stream",
     "text": [
      "Epoch 18/19:  76%|███████████████████████████████████████████████               | 475/625 [11:28<01:44,  1.43it/s, loss=0.513]"
     ]
    },
    {
     "name": "stdout",
     "output_type": "stream",
     "text": [
      "Step 11100: Avg Loss 0.4483\n"
     ]
    },
    {
     "name": "stderr",
     "output_type": "stream",
     "text": [
      "Epoch 18/19:  92%|█████████████████████████████████████████████████████████     | 575/625 [12:38<00:34,  1.43it/s, loss=0.389]"
     ]
    },
    {
     "name": "stdout",
     "output_type": "stream",
     "text": [
      "Step 11200: Avg Loss 0.4454\n"
     ]
    },
    {
     "name": "stderr",
     "output_type": "stream",
     "text": [
      "Epoch 18/19: 100%|███████████████████████████████████████████████████████████████| 625/625 [13:13<00:00,  1.27s/it, loss=0.49]\n"
     ]
    },
    {
     "name": "stdout",
     "output_type": "stream",
     "text": [
      "Epoch 18 completed in 793.30s - Avg Loss: 0.4426\n"
     ]
    },
    {
     "name": "stderr",
     "output_type": "stream",
     "text": [
      "Epoch 19/19:   8%|█████                                                          | 50/625 [00:34<06:42,  1.43it/s, loss=0.359]"
     ]
    },
    {
     "name": "stdout",
     "output_type": "stream",
     "text": [
      "Step 11300: Avg Loss 0.4375\n"
     ]
    },
    {
     "name": "stderr",
     "output_type": "stream",
     "text": [
      "Epoch 19/19:  24%|██████████████▉                                               | 150/625 [01:44<05:32,  1.43it/s, loss=0.414]"
     ]
    },
    {
     "name": "stdout",
     "output_type": "stream",
     "text": [
      "Step 11400: Avg Loss 0.4369\n"
     ]
    },
    {
     "name": "stderr",
     "output_type": "stream",
     "text": [
      "Epoch 19/19:  40%|████████████████████████▋                                     | 249/625 [02:54<04:22,  1.43it/s, loss=0.463]"
     ]
    },
    {
     "name": "stdout",
     "output_type": "stream",
     "text": [
      "Step 11500: Avg Loss 0.4323\n"
     ]
    },
    {
     "name": "stderr",
     "output_type": "stream",
     "text": [
      "Epoch 19/19:  40%|███████████████████████▏                                  | 250/625 [08:51<11:12:48, 107.65s/it, loss=0.385]"
     ]
    },
    {
     "name": "stdout",
     "output_type": "stream",
     "text": [
      "Validation loss after step 11500: 2.2271\n"
     ]
    },
    {
     "name": "stderr",
     "output_type": "stream",
     "text": [
      "Epoch 19/19:  56%|██████████████████████████████████▋                           | 350/625 [10:01<03:12,  1.43it/s, loss=0.463]"
     ]
    },
    {
     "name": "stdout",
     "output_type": "stream",
     "text": [
      "Step 11600: Avg Loss 0.4324\n"
     ]
    },
    {
     "name": "stderr",
     "output_type": "stream",
     "text": [
      "Epoch 19/19:  72%|█████████████████████████████████████████████▎                 | 450/625 [11:11<02:02,  1.43it/s, loss=0.52]"
     ]
    },
    {
     "name": "stdout",
     "output_type": "stream",
     "text": [
      "Step 11700: Avg Loss 0.4289\n"
     ]
    },
    {
     "name": "stderr",
     "output_type": "stream",
     "text": [
      "Epoch 19/19:  88%|███████████████████████████████████████████████████████▍       | 550/625 [12:20<00:52,  1.43it/s, loss=0.31]"
     ]
    },
    {
     "name": "stdout",
     "output_type": "stream",
     "text": [
      "Step 11800: Avg Loss 0.4291\n"
     ]
    },
    {
     "name": "stderr",
     "output_type": "stream",
     "text": [
      "Epoch 19/19: 100%|███████████████████████████████████████████████████████████████| 625/625 [13:13<00:00,  1.27s/it, loss=0.51]\n"
     ]
    },
    {
     "name": "stdout",
     "output_type": "stream",
     "text": [
      "Epoch 19 completed in 793.37s - Avg Loss: 0.4322\n",
      "Training finished.\n",
      "Train e Validation loss salvate in ../checkpoints/losses_stepwise.json\n",
      "Plot saved in ../Plots/DAPT_10k.png\n",
      "\n",
      "Total training time: 16477.05 seconds (274.62 minutes)\n",
      "Model and tokenizer saved to: ../Models/dapt_10k\n"
     ]
    },
    {
     "data": {
      "image/png": "[encoded data removed]",
      "text/plain": [
       "<Figure size 1000x600 with 1 Axes>"
      ]
     },
     "metadata": {},
     "output_type": "display_data"
    }
   ],
   "source": [
    "# 1. Load config from YAML\n",
    "with open(\"../File_Yaml/Esecuzione_DAPT_10K.yaml\", \"r\") as f:\n",
    "    config = yaml.safe_load(f)\n",
    "\n",
    "# 2. Load dataset\n",
    "df = pd.read_csv(config[\"data_path\"])\n",
    "converted_columns = [\"input_ids\",\"attention_mask\"]\n",
    "\n",
    "df_val = pd.read_csv(config[\"data_path_val\"])\n",
    "\n",
    "\n",
    "\n",
    "for col in converted_columns :\n",
    "    df[col] = df[col].apply(ast.literal_eval)\n",
    "    df_val[col] = df_val[col].apply(ast.literal_eval)\n",
    "\n",
    "\n",
    "# 3. Load tokenizer and model\n",
    "tokenizer = BertTokenizer.from_pretrained(config[\"tokenizer_name\"])\n",
    "model = BertForMaskedLM.from_pretrained(config[\"model_path\"])\n",
    "\n",
    "# 4. Data Preparation\n",
    "prep = DataPreparation(df, tokenizer, max_length = config[\"max_length\"])\n",
    "mlm_encodings = prep.tokenize_and_segment_abstracts()\n",
    "mlm_encodings = prep.apply_bert_masking(mlm_encodings)\n",
    "\n",
    "masked = prep.masking_stats[\"masked_tokens\"]\n",
    "total = prep.masking_stats[\"total_tokens\"]\n",
    "percent = 100 * masked / total if total > 0 else 0\n",
    "\n",
    "print(f\"\\n Percentage of masked tokens: {percent:.2f}% \"\n",
    "      f\"({masked} on {total} valid tokens)\")\n",
    "\n",
    "# 5. Dataset\n",
    "dataset = CombinedMLMNSPDataset(mlm_encodings)\n",
    "\n",
    "prep_val = DataPreparation(df_val, tokenizer, max_length = config[\"max_length\"])\n",
    "mlm_encodings_val = prep_val.tokenize_and_segment_abstracts()\n",
    "mlm_encodings_val = prep_val.apply_bert_masking(mlm_encodings_val)\n",
    "\n",
    "dataset_val = CombinedMLMNSPDataset(mlm_encodings_val)\n",
    "val_dataloader = torch.utils.data.DataLoader(dataset_val, batch_size=config[\"batch_size\"], shuffle=False)\n",
    "\n",
    "# 6. Trainer\n",
    "trainer = DAPTTrainer(\n",
    "    model=model,\n",
    "    dataset=dataset,\n",
    "    batch_size=config[\"batch_size\"],\n",
    "    epochs=config[\"epochs\"],\n",
    "    lr=config[\"learning_rate\"],\n",
    "    #checkpoint_interval=config[\"checkpoint_interval\"],\n",
    "    plot_save_path = config[\"plot_save_path\"]\n",
    ")\n",
    "\n",
    "# 7. Training with timing\n",
    "start_time = time.time()\n",
    "trainer.train(\n",
    "    log_every_n_steps=100,  # o quello che preferisci\n",
    "    save_loss_path=os.path.join(config[\"checkpoint_dir\"], \"losses_stepwise.json\"),\n",
    "    val_dataloader=val_dataloader,      \n",
    "    val_every_n_steps=500 \n",
    ")\n",
    "\n",
    "end_time = time.time()\n",
    "\n",
    "elapsed_time = end_time - start_time\n",
    "print(f\"\\nTotal training time: {elapsed_time:.2f} seconds ({elapsed_time / 60:.2f} minutes)\")\n",
    "\n",
    "\n",
    "# 8. Save model and tokenizer\n",
    "save_path = config[\"output_model_path\"]  \n",
    "os.makedirs(save_path, exist_ok=True)\n",
    "\n",
    "model.save_pretrained(save_path)\n",
    "tokenizer.save_pretrained(save_path)\n",
    "\n",
    "print(f\"Model and tokenizer saved to: {save_path}\")"
   ]
  }
 ],
 "metadata": {
  "accelerator": "TPU",
  "colab": {
   "gpuType": "V28",
   "provenance": []
  },
  "kernelspec": {
   "display_name": "Python 3 (ipykernel)",
   "language": "python",
   "name": "python3"
  },
  "language_info": {
   "codemirror_mode": {
    "name": "ipython",
    "version": 3
   },
   "file_extension": ".py",
   "mimetype": "text/x-python",
   "name": "python",
   "nbconvert_exporter": "python",
   "pygments_lexer": "ipython3",
   "version": "3.9.23"
  },
  "widgets": {
   "application/vnd.jupyter.widget-state+json": {
    "01662d2c1a4a499aba71d883291ec3d6": {
     "model_module": "@jupyter-widgets/controls",
     "model_module_version": "1.5.0",
     "model_name": "ProgressStyleModel",
     "state": {
      "_model_module": "@jupyter-widgets/controls",
      "_model_module_version": "1.5.0",
      "_model_name": "ProgressStyleModel",
      "_view_count": null,
      "_view_module": "@jupyter-widgets/base",
      "_view_module_version": "1.2.0",
      "_view_name": "StyleView",
      "bar_color": null,
      "description_width": ""
     }
    },
    "0a003d3ab36943c9a1e4fb3354a2bcf6": {
     "model_module": "@jupyter-widgets/base",
     "model_module_version": "1.2.0",
     "model_name": "LayoutModel",
     "state": {
      "_model_module": "@jupyter-widgets/base",
      "_model_module_version": "1.2.0",
      "_model_name": "LayoutModel",
      "_view_count": null,
      "_view_module": "@jupyter-widgets/base",
      "_view_module_version": "1.2.0",
      "_view_name": "LayoutView",
      "align_content": null,
      "align_items": null,
      "align_self": null,
      "border": null,
      "bottom": null,
      "display": null,
      "flex": null,
      "flex_flow": null,
      "grid_area": null,
      "grid_auto_columns": null,
      "grid_auto_flow": null,
      "grid_auto_rows": null,
      "grid_column": null,
      "grid_gap": null,
      "grid_row": null,
      "grid_template_areas": null,
      "grid_template_columns": null,
      "grid_template_rows": null,
      "height": null,
      "justify_content": null,
      "justify_items": null,
      "left": null,
      "margin": null,
      "max_height": null,
      "max_width": null,
      "min_height": null,
      "min_width": null,
      "object_fit": null,
      "object_position": null,
      "order": null,
      "overflow": null,
      "overflow_x": null,
      "overflow_y": null,
      "padding": null,
      "right": null,
      "top": null,
      "visibility": null,
      "width": null
     }
    },
    "0bfe94ff02a64aaa823afc6d480a799d": {
     "model_module": "@jupyter-widgets/base",
     "model_module_version": "1.2.0",
     "model_name": "LayoutModel",
     "state": {
      "_model_module": "@jupyter-widgets/base",
      "_model_module_version": "1.2.0",
      "_model_name": "LayoutModel",
      "_view_count": null,
      "_view_module": "@jupyter-widgets/base",
      "_view_module_version": "1.2.0",
      "_view_name": "LayoutView",
      "align_content": null,
      "align_items": null,
      "align_self": null,
      "border": null,
      "bottom": null,
      "display": null,
      "flex": null,
      "flex_flow": null,
      "grid_area": null,
      "grid_auto_columns": null,
      "grid_auto_flow": null,
      "grid_auto_rows": null,
      "grid_column": null,
      "grid_gap": null,
      "grid_row": null,
      "grid_template_areas": null,
      "grid_template_columns": null,
      "grid_template_rows": null,
      "height": null,
      "justify_content": null,
      "justify_items": null,
      "left": null,
      "margin": null,
      "max_height": null,
      "max_width": null,
      "min_height": null,
      "min_width": null,
      "object_fit": null,
      "object_position": null,
      "order": null,
      "overflow": null,
      "overflow_x": null,
      "overflow_y": null,
      "padding": null,
      "right": null,
      "top": null,
      "visibility": null,
      "width": null
     }
    },
    "0cf3e18ffdec4c65bcbfc6a65d7d5725": {
     "model_module": "@jupyter-widgets/base",
     "model_module_version": "1.2.0",
     "model_name": "LayoutModel",
     "state": {
      "_model_module": "@jupyter-widgets/base",
      "_model_module_version": "1.2.0",
      "_model_name": "LayoutModel",
      "_view_count": null,
      "_view_module": "@jupyter-widgets/base",
      "_view_module_version": "1.2.0",
      "_view_name": "LayoutView",
      "align_content": null,
      "align_items": null,
      "align_self": null,
      "border": null,
      "bottom": null,
      "display": null,
      "flex": null,
      "flex_flow": null,
      "grid_area": null,
      "grid_auto_columns": null,
      "grid_auto_flow": null,
      "grid_auto_rows": null,
      "grid_column": null,
      "grid_gap": null,
      "grid_row": null,
      "grid_template_areas": null,
      "grid_template_columns": null,
      "grid_template_rows": null,
      "height": null,
      "justify_content": null,
      "justify_items": null,
      "left": null,
      "margin": null,
      "max_height": null,
      "max_width": null,
      "min_height": null,
      "min_width": null,
      "object_fit": null,
      "object_position": null,
      "order": null,
      "overflow": null,
      "overflow_x": null,
      "overflow_y": null,
      "padding": null,
      "right": null,
      "top": null,
      "visibility": null,
      "width": null
     }
    },
    "1205141f3c9649778f34841d5b6e7a75": {
     "model_module": "@jupyter-widgets/controls",
     "model_module_version": "1.5.0",
     "model_name": "HBoxModel",
     "state": {
      "_dom_classes": [],
      "_model_module": "@jupyter-widgets/controls",
      "_model_module_version": "1.5.0",
      "_model_name": "HBoxModel",
      "_view_count": null,
      "_view_module": "@jupyter-widgets/controls",
      "_view_module_version": "1.5.0",
      "_view_name": "HBoxView",
      "box_style": "",
      "children": [
       "IPY_MODEL_c5dca2acba0546428804fe8ff2b7af5b",
       "IPY_MODEL_53ddf4467960421884dc6358595c1eee",
       "IPY_MODEL_270345395b3b4ff586906f1e36828f61"
      ],
      "layout": "IPY_MODEL_6c63761e923547d28922ef6874609d3d"
     }
    },
    "13b05895925f4df7b90040d99ce7f6db": {
     "model_module": "@jupyter-widgets/base",
     "model_module_version": "1.2.0",
     "model_name": "LayoutModel",
     "state": {
      "_model_module": "@jupyter-widgets/base",
      "_model_module_version": "1.2.0",
      "_model_name": "LayoutModel",
      "_view_count": null,
      "_view_module": "@jupyter-widgets/base",
      "_view_module_version": "1.2.0",
      "_view_name": "LayoutView",
      "align_content": null,
      "align_items": null,
      "align_self": null,
      "border": null,
      "bottom": null,
      "display": null,
      "flex": null,
      "flex_flow": null,
      "grid_area": null,
      "grid_auto_columns": null,
      "grid_auto_flow": null,
      "grid_auto_rows": null,
      "grid_column": null,
      "grid_gap": null,
      "grid_row": null,
      "grid_template_areas": null,
      "grid_template_columns": null,
      "grid_template_rows": null,
      "height": null,
      "justify_content": null,
      "justify_items": null,
      "left": null,
      "margin": null,
      "max_height": null,
      "max_width": null,
      "min_height": null,
      "min_width": null,
      "object_fit": null,
      "object_position": null,
      "order": null,
      "overflow": null,
      "overflow_x": null,
      "overflow_y": null,
      "padding": null,
      "right": null,
      "top": null,
      "visibility": null,
      "width": null
     }
    },
    "163145030aad4085916f0fe1516a6314": {
     "model_module": "@jupyter-widgets/base",
     "model_module_version": "1.2.0",
     "model_name": "LayoutModel",
     "state": {
      "_model_module": "@jupyter-widgets/base",
      "_model_module_version": "1.2.0",
      "_model_name": "LayoutModel",
      "_view_count": null,
      "_view_module": "@jupyter-widgets/base",
      "_view_module_version": "1.2.0",
      "_view_name": "LayoutView",
      "align_content": null,
      "align_items": null,
      "align_self": null,
      "border": null,
      "bottom": null,
      "display": null,
      "flex": null,
      "flex_flow": null,
      "grid_area": null,
      "grid_auto_columns": null,
      "grid_auto_flow": null,
      "grid_auto_rows": null,
      "grid_column": null,
      "grid_gap": null,
      "grid_row": null,
      "grid_template_areas": null,
      "grid_template_columns": null,
      "grid_template_rows": null,
      "height": null,
      "justify_content": null,
      "justify_items": null,
      "left": null,
      "margin": null,
      "max_height": null,
      "max_width": null,
      "min_height": null,
      "min_width": null,
      "object_fit": null,
      "object_position": null,
      "order": null,
      "overflow": null,
      "overflow_x": null,
      "overflow_y": null,
      "padding": null,
      "right": null,
      "top": null,
      "visibility": null,
      "width": null
     }
    },
    "1de4036b285a4f8e982f70b90333a568": {
     "model_module": "@jupyter-widgets/controls",
     "model_module_version": "1.5.0",
     "model_name": "DescriptionStyleModel",
     "state": {
      "_model_module": "@jupyter-widgets/controls",
      "_model_module_version": "1.5.0",
      "_model_name": "DescriptionStyleModel",
      "_view_count": null,
      "_view_module": "@jupyter-widgets/base",
      "_view_module_version": "1.2.0",
      "_view_name": "StyleView",
      "description_width": ""
     }
    },
    "270345395b3b4ff586906f1e36828f61": {
     "model_module": "@jupyter-widgets/controls",
     "model_module_version": "1.5.0",
     "model_name": "HTMLModel",
     "state": {
      "_dom_classes": [],
      "_model_module": "@jupyter-widgets/controls",
      "_model_module_version": "1.5.0",
      "_model_name": "HTMLModel",
      "_view_count": null,
      "_view_module": "@jupyter-widgets/controls",
      "_view_module_version": "1.5.0",
      "_view_name": "HTMLView",
      "description": "",
      "description_tooltip": null,
      "layout": "IPY_MODEL_33f0e56711de469a87a3288d7edde77c",
      "placeholder": "​",
      "style": "IPY_MODEL_ec43420f93f3423eae05dea39c519527",
      "value": " 232k/232k [00:00&lt;00:00, 5.00MB/s]"
     }
    },
    "3186c4604fd4411c887c0fec8e13dab4": {
     "model_module": "@jupyter-widgets/controls",
     "model_module_version": "1.5.0",
     "model_name": "HTMLModel",
     "state": {
      "_dom_classes": [],
      "_model_module": "@jupyter-widgets/controls",
      "_model_module_version": "1.5.0",
      "_model_name": "HTMLModel",
      "_view_count": null,
      "_view_module": "@jupyter-widgets/controls",
      "_view_module_version": "1.5.0",
      "_view_name": "HTMLView",
      "description": "",
      "description_tooltip": null,
      "layout": "IPY_MODEL_163145030aad4085916f0fe1516a6314",
      "placeholder": "​",
      "style": "IPY_MODEL_48245967dba84e5fb64662d44d464623",
      "value": " 466k/466k [00:00&lt;00:00, 8.43MB/s]"
     }
    },
    "319b71cc959f43db8869b2050b68161a": {
     "model_module": "@jupyter-widgets/controls",
     "model_module_version": "1.5.0",
     "model_name": "FloatProgressModel",
     "state": {
      "_dom_classes": [],
      "_model_module": "@jupyter-widgets/controls",
      "_model_module_version": "1.5.0",
      "_model_name": "FloatProgressModel",
      "_view_count": null,
      "_view_module": "@jupyter-widgets/controls",
      "_view_module_version": "1.5.0",
      "_view_name": "ProgressView",
      "bar_style": "success",
      "description": "",
      "description_tooltip": null,
      "layout": "IPY_MODEL_4e3d7d950a3b4202b112c2d24b3fe47e",
      "max": 48,
      "min": 0,
      "orientation": "horizontal",
      "style": "IPY_MODEL_f5b953aefcd040b9ae84aefca15fecdd",
      "value": 48
     }
    },
    "33f0e56711de469a87a3288d7edde77c": {
     "model_module": "@jupyter-widgets/base",
     "model_module_version": "1.2.0",
     "model_name": "LayoutModel",
     "state": {
      "_model_module": "@jupyter-widgets/base",
      "_model_module_version": "1.2.0",
      "_model_name": "LayoutModel",
      "_view_count": null,
      "_view_module": "@jupyter-widgets/base",
      "_view_module_version": "1.2.0",
      "_view_name": "LayoutView",
      "align_content": null,
      "align_items": null,
      "align_self": null,
      "border": null,
      "bottom": null,
      "display": null,
      "flex": null,
      "flex_flow": null,
      "grid_area": null,
      "grid_auto_columns": null,
      "grid_auto_flow": null,
      "grid_auto_rows": null,
      "grid_column": null,
      "grid_gap": null,
      "grid_row": null,
      "grid_template_areas": null,
      "grid_template_columns": null,
      "grid_template_rows": null,
      "height": null,
      "justify_content": null,
      "justify_items": null,
      "left": null,
      "margin": null,
      "max_height": null,
      "max_width": null,
      "min_height": null,
      "min_width": null,
      "object_fit": null,
      "object_position": null,
      "order": null,
      "overflow": null,
      "overflow_x": null,
      "overflow_y": null,
      "padding": null,
      "right": null,
      "top": null,
      "visibility": null,
      "width": null
     }
    },
    "48245967dba84e5fb64662d44d464623": {
     "model_module": "@jupyter-widgets/controls",
     "model_module_version": "1.5.0",
     "model_name": "DescriptionStyleModel",
     "state": {
      "_model_module": "@jupyter-widgets/controls",
      "_model_module_version": "1.5.0",
      "_model_name": "DescriptionStyleModel",
      "_view_count": null,
      "_view_module": "@jupyter-widgets/base",
      "_view_module_version": "1.2.0",
      "_view_name": "StyleView",
      "description_width": ""
     }
    },
    "4d5c978de041452b8f72992014617c24": {
     "model_module": "@jupyter-widgets/controls",
     "model_module_version": "1.5.0",
     "model_name": "HTMLModel",
     "state": {
      "_dom_classes": [],
      "_model_module": "@jupyter-widgets/controls",
      "_model_module_version": "1.5.0",
      "_model_name": "HTMLModel",
      "_view_count": null,
      "_view_module": "@jupyter-widgets/controls",
      "_view_module_version": "1.5.0",
      "_view_name": "HTMLView",
      "description": "",
      "description_tooltip": null,
      "layout": "IPY_MODEL_5edf2b8c92be4cd8a15f0c46ef5d83d2",
      "placeholder": "​",
      "style": "IPY_MODEL_ce5f8f763a754a16afef95b7d8cd6566",
      "value": "config.json: 100%"
     }
    },
    "4d668ffc0d444db59a920306a507587c": {
     "model_module": "@jupyter-widgets/base",
     "model_module_version": "1.2.0",
     "model_name": "LayoutModel",
     "state": {
      "_model_module": "@jupyter-widgets/base",
      "_model_module_version": "1.2.0",
      "_model_name": "LayoutModel",
      "_view_count": null,
      "_view_module": "@jupyter-widgets/base",
      "_view_module_version": "1.2.0",
      "_view_name": "LayoutView",
      "align_content": null,
      "align_items": null,
      "align_self": null,
      "border": null,
      "bottom": null,
      "display": null,
      "flex": null,
      "flex_flow": null,
      "grid_area": null,
      "grid_auto_columns": null,
      "grid_auto_flow": null,
      "grid_auto_rows": null,
      "grid_column": null,
      "grid_gap": null,
      "grid_row": null,
      "grid_template_areas": null,
      "grid_template_columns": null,
      "grid_template_rows": null,
      "height": null,
      "justify_content": null,
      "justify_items": null,
      "left": null,
      "margin": null,
      "max_height": null,
      "max_width": null,
      "min_height": null,
      "min_width": null,
      "object_fit": null,
      "object_position": null,
      "order": null,
      "overflow": null,
      "overflow_x": null,
      "overflow_y": null,
      "padding": null,
      "right": null,
      "top": null,
      "visibility": null,
      "width": null
     }
    },
    "4e3d7d950a3b4202b112c2d24b3fe47e": {
     "model_module": "@jupyter-widgets/base",
     "model_module_version": "1.2.0",
     "model_name": "LayoutModel",
     "state": {
      "_model_module": "@jupyter-widgets/base",
      "_model_module_version": "1.2.0",
      "_model_name": "LayoutModel",
      "_view_count": null,
      "_view_module": "@jupyter-widgets/base",
      "_view_module_version": "1.2.0",
      "_view_name": "LayoutView",
      "align_content": null,
      "align_items": null,
      "align_self": null,
      "border": null,
      "bottom": null,
      "display": null,
      "flex": null,
      "flex_flow": null,
      "grid_area": null,
      "grid_auto_columns": null,
      "grid_auto_flow": null,
      "grid_auto_rows": null,
      "grid_column": null,
      "grid_gap": null,
      "grid_row": null,
      "grid_template_areas": null,
      "grid_template_columns": null,
      "grid_template_rows": null,
      "height": null,
      "justify_content": null,
      "justify_items": null,
      "left": null,
      "margin": null,
      "max_height": null,
      "max_width": null,
      "min_height": null,
      "min_width": null,
      "object_fit": null,
      "object_position": null,
      "order": null,
      "overflow": null,
      "overflow_x": null,
      "overflow_y": null,
      "padding": null,
      "right": null,
      "top": null,
      "visibility": null,
      "width": null
     }
    },
    "529d27835db244bb97132d9689915ec0": {
     "model_module": "@jupyter-widgets/base",
     "model_module_version": "1.2.0",
     "model_name": "LayoutModel",
     "state": {
      "_model_module": "@jupyter-widgets/base",
      "_model_module_version": "1.2.0",
      "_model_name": "LayoutModel",
      "_view_count": null,
      "_view_module": "@jupyter-widgets/base",
      "_view_module_version": "1.2.0",
      "_view_name": "LayoutView",
      "align_content": null,
      "align_items": null,
      "align_self": null,
      "border": null,
      "bottom": null,
      "display": null,
      "flex": null,
      "flex_flow": null,
      "grid_area": null,
      "grid_auto_columns": null,
      "grid_auto_flow": null,
      "grid_auto_rows": null,
      "grid_column": null,
      "grid_gap": null,
      "grid_row": null,
      "grid_template_areas": null,
      "grid_template_columns": null,
      "grid_template_rows": null,
      "height": null,
      "justify_content": null,
      "justify_items": null,
      "left": null,
      "margin": null,
      "max_height": null,
      "max_width": null,
      "min_height": null,
      "min_width": null,
      "object_fit": null,
      "object_position": null,
      "order": null,
      "overflow": null,
      "overflow_x": null,
      "overflow_y": null,
      "padding": null,
      "right": null,
      "top": null,
      "visibility": null,
      "width": null
     }
    },
    "53ddf4467960421884dc6358595c1eee": {
     "model_module": "@jupyter-widgets/controls",
     "model_module_version": "1.5.0",
     "model_name": "FloatProgressModel",
     "state": {
      "_dom_classes": [],
      "_model_module": "@jupyter-widgets/controls",
      "_model_module_version": "1.5.0",
      "_model_name": "FloatProgressModel",
      "_view_count": null,
      "_view_module": "@jupyter-widgets/controls",
      "_view_module_version": "1.5.0",
      "_view_name": "ProgressView",
      "bar_style": "success",
      "description": "",
      "description_tooltip": null,
      "layout": "IPY_MODEL_d653a9dcdce44552aaff69a6c39ca4e1",
      "max": 231508,
      "min": 0,
      "orientation": "horizontal",
      "style": "IPY_MODEL_c7489f24fea549c2a6c562a8aeff634e",
      "value": 231508
     }
    },
    "56101ae052c246d6a6b4206556e2de22": {
     "model_module": "@jupyter-widgets/controls",
     "model_module_version": "1.5.0",
     "model_name": "DescriptionStyleModel",
     "state": {
      "_model_module": "@jupyter-widgets/controls",
      "_model_module_version": "1.5.0",
      "_model_name": "DescriptionStyleModel",
      "_view_count": null,
      "_view_module": "@jupyter-widgets/base",
      "_view_module_version": "1.2.0",
      "_view_name": "StyleView",
      "description_width": ""
     }
    },
    "58a2f32497624500a531736b28d29d66": {
     "model_module": "@jupyter-widgets/controls",
     "model_module_version": "1.5.0",
     "model_name": "DescriptionStyleModel",
     "state": {
      "_model_module": "@jupyter-widgets/controls",
      "_model_module_version": "1.5.0",
      "_model_name": "DescriptionStyleModel",
      "_view_count": null,
      "_view_module": "@jupyter-widgets/base",
      "_view_module_version": "1.2.0",
      "_view_name": "StyleView",
      "description_width": ""
     }
    },
    "5d755a3e83804f4eadade68b3c36d80f": {
     "model_module": "@jupyter-widgets/controls",
     "model_module_version": "1.5.0",
     "model_name": "HTMLModel",
     "state": {
      "_dom_classes": [],
      "_model_module": "@jupyter-widgets/controls",
      "_model_module_version": "1.5.0",
      "_model_name": "HTMLModel",
      "_view_count": null,
      "_view_module": "@jupyter-widgets/controls",
      "_view_module_version": "1.5.0",
      "_view_name": "HTMLView",
      "description": "",
      "description_tooltip": null,
      "layout": "IPY_MODEL_0cf3e18ffdec4c65bcbfc6a65d7d5725",
      "placeholder": "​",
      "style": "IPY_MODEL_1de4036b285a4f8e982f70b90333a568",
      "value": " 570/570 [00:00&lt;00:00, 51.6kB/s]"
     }
    },
    "5edf2b8c92be4cd8a15f0c46ef5d83d2": {
     "model_module": "@jupyter-widgets/base",
     "model_module_version": "1.2.0",
     "model_name": "LayoutModel",
     "state": {
      "_model_module": "@jupyter-widgets/base",
      "_model_module_version": "1.2.0",
      "_model_name": "LayoutModel",
      "_view_count": null,
      "_view_module": "@jupyter-widgets/base",
      "_view_module_version": "1.2.0",
      "_view_name": "LayoutView",
      "align_content": null,
      "align_items": null,
      "align_self": null,
      "border": null,
      "bottom": null,
      "display": null,
      "flex": null,
      "flex_flow": null,
      "grid_area": null,
      "grid_auto_columns": null,
      "grid_auto_flow": null,
      "grid_auto_rows": null,
      "grid_column": null,
      "grid_gap": null,
      "grid_row": null,
      "grid_template_areas": null,
      "grid_template_columns": null,
      "grid_template_rows": null,
      "height": null,
      "justify_content": null,
      "justify_items": null,
      "left": null,
      "margin": null,
      "max_height": null,
      "max_width": null,
      "min_height": null,
      "min_width": null,
      "object_fit": null,
      "object_position": null,
      "order": null,
      "overflow": null,
      "overflow_x": null,
      "overflow_y": null,
      "padding": null,
      "right": null,
      "top": null,
      "visibility": null,
      "width": null
     }
    },
    "633881397207495caaff4b9f10117f85": {
     "model_module": "@jupyter-widgets/controls",
     "model_module_version": "1.5.0",
     "model_name": "HBoxModel",
     "state": {
      "_dom_classes": [],
      "_model_module": "@jupyter-widgets/controls",
      "_model_module_version": "1.5.0",
      "_model_name": "HBoxModel",
      "_view_count": null,
      "_view_module": "@jupyter-widgets/controls",
      "_view_module_version": "1.5.0",
      "_view_name": "HBoxView",
      "box_style": "",
      "children": [
       "IPY_MODEL_96cf078e9169424087f8c1186825cefe",
       "IPY_MODEL_f13fd4e50b9d4465bc449f748b97a67b",
       "IPY_MODEL_3186c4604fd4411c887c0fec8e13dab4"
      ],
      "layout": "IPY_MODEL_f84dd467111143faaeda9b2c563dc23a"
     }
    },
    "69c77a4aa1ad4298a03080d68257d510": {
     "model_module": "@jupyter-widgets/controls",
     "model_module_version": "1.5.0",
     "model_name": "HBoxModel",
     "state": {
      "_dom_classes": [],
      "_model_module": "@jupyter-widgets/controls",
      "_model_module_version": "1.5.0",
      "_model_name": "HBoxModel",
      "_view_count": null,
      "_view_module": "@jupyter-widgets/controls",
      "_view_module_version": "1.5.0",
      "_view_name": "HBoxView",
      "box_style": "",
      "children": [
       "IPY_MODEL_b107e0493252478484cb9db3176834a6",
       "IPY_MODEL_319b71cc959f43db8869b2050b68161a",
       "IPY_MODEL_c66b235e6462493ea2daa85b850cfd85"
      ],
      "layout": "IPY_MODEL_87384a56700846f3a7c3855014dda95c"
     }
    },
    "6c63761e923547d28922ef6874609d3d": {
     "model_module": "@jupyter-widgets/base",
     "model_module_version": "1.2.0",
     "model_name": "LayoutModel",
     "state": {
      "_model_module": "@jupyter-widgets/base",
      "_model_module_version": "1.2.0",
      "_model_name": "LayoutModel",
      "_view_count": null,
      "_view_module": "@jupyter-widgets/base",
      "_view_module_version": "1.2.0",
      "_view_name": "LayoutView",
      "align_content": null,
      "align_items": null,
      "align_self": null,
      "border": null,
      "bottom": null,
      "display": null,
      "flex": null,
      "flex_flow": null,
      "grid_area": null,
      "grid_auto_columns": null,
      "grid_auto_flow": null,
      "grid_auto_rows": null,
      "grid_column": null,
      "grid_gap": null,
      "grid_row": null,
      "grid_template_areas": null,
      "grid_template_columns": null,
      "grid_template_rows": null,
      "height": null,
      "justify_content": null,
      "justify_items": null,
      "left": null,
      "margin": null,
      "max_height": null,
      "max_width": null,
      "min_height": null,
      "min_width": null,
      "object_fit": null,
      "object_position": null,
      "order": null,
      "overflow": null,
      "overflow_x": null,
      "overflow_y": null,
      "padding": null,
      "right": null,
      "top": null,
      "visibility": null,
      "width": null
     }
    },
    "7727700bb99f42ea8feab6cddf61018a": {
     "model_module": "@jupyter-widgets/controls",
     "model_module_version": "1.5.0",
     "model_name": "DescriptionStyleModel",
     "state": {
      "_model_module": "@jupyter-widgets/controls",
      "_model_module_version": "1.5.0",
      "_model_name": "DescriptionStyleModel",
      "_view_count": null,
      "_view_module": "@jupyter-widgets/base",
      "_view_module_version": "1.2.0",
      "_view_name": "StyleView",
      "description_width": ""
     }
    },
    "87384a56700846f3a7c3855014dda95c": {
     "model_module": "@jupyter-widgets/base",
     "model_module_version": "1.2.0",
     "model_name": "LayoutModel",
     "state": {
      "_model_module": "@jupyter-widgets/base",
      "_model_module_version": "1.2.0",
      "_model_name": "LayoutModel",
      "_view_count": null,
      "_view_module": "@jupyter-widgets/base",
      "_view_module_version": "1.2.0",
      "_view_name": "LayoutView",
      "align_content": null,
      "align_items": null,
      "align_self": null,
      "border": null,
      "bottom": null,
      "display": null,
      "flex": null,
      "flex_flow": null,
      "grid_area": null,
      "grid_auto_columns": null,
      "grid_auto_flow": null,
      "grid_auto_rows": null,
      "grid_column": null,
      "grid_gap": null,
      "grid_row": null,
      "grid_template_areas": null,
      "grid_template_columns": null,
      "grid_template_rows": null,
      "height": null,
      "justify_content": null,
      "justify_items": null,
      "left": null,
      "margin": null,
      "max_height": null,
      "max_width": null,
      "min_height": null,
      "min_width": null,
      "object_fit": null,
      "object_position": null,
      "order": null,
      "overflow": null,
      "overflow_x": null,
      "overflow_y": null,
      "padding": null,
      "right": null,
      "top": null,
      "visibility": null,
      "width": null
     }
    },
    "885d8157ccab449a9fecb4bb43eaddcc": {
     "model_module": "@jupyter-widgets/controls",
     "model_module_version": "1.5.0",
     "model_name": "FloatProgressModel",
     "state": {
      "_dom_classes": [],
      "_model_module": "@jupyter-widgets/controls",
      "_model_module_version": "1.5.0",
      "_model_name": "FloatProgressModel",
      "_view_count": null,
      "_view_module": "@jupyter-widgets/controls",
      "_view_module_version": "1.5.0",
      "_view_name": "ProgressView",
      "bar_style": "success",
      "description": "",
      "description_tooltip": null,
      "layout": "IPY_MODEL_529d27835db244bb97132d9689915ec0",
      "max": 570,
      "min": 0,
      "orientation": "horizontal",
      "style": "IPY_MODEL_01662d2c1a4a499aba71d883291ec3d6",
      "value": 570
     }
    },
    "93d952609d6a40499213ceb4e4642d6d": {
     "model_module": "@jupyter-widgets/base",
     "model_module_version": "1.2.0",
     "model_name": "LayoutModel",
     "state": {
      "_model_module": "@jupyter-widgets/base",
      "_model_module_version": "1.2.0",
      "_model_name": "LayoutModel",
      "_view_count": null,
      "_view_module": "@jupyter-widgets/base",
      "_view_module_version": "1.2.0",
      "_view_name": "LayoutView",
      "align_content": null,
      "align_items": null,
      "align_self": null,
      "border": null,
      "bottom": null,
      "display": null,
      "flex": null,
      "flex_flow": null,
      "grid_area": null,
      "grid_auto_columns": null,
      "grid_auto_flow": null,
      "grid_auto_rows": null,
      "grid_column": null,
      "grid_gap": null,
      "grid_row": null,
      "grid_template_areas": null,
      "grid_template_columns": null,
      "grid_template_rows": null,
      "height": null,
      "justify_content": null,
      "justify_items": null,
      "left": null,
      "margin": null,
      "max_height": null,
      "max_width": null,
      "min_height": null,
      "min_width": null,
      "object_fit": null,
      "object_position": null,
      "order": null,
      "overflow": null,
      "overflow_x": null,
      "overflow_y": null,
      "padding": null,
      "right": null,
      "top": null,
      "visibility": null,
      "width": null
     }
    },
    "96cf078e9169424087f8c1186825cefe": {
     "model_module": "@jupyter-widgets/controls",
     "model_module_version": "1.5.0",
     "model_name": "HTMLModel",
     "state": {
      "_dom_classes": [],
      "_model_module": "@jupyter-widgets/controls",
      "_model_module_version": "1.5.0",
      "_model_name": "HTMLModel",
      "_view_count": null,
      "_view_module": "@jupyter-widgets/controls",
      "_view_module_version": "1.5.0",
      "_view_name": "HTMLView",
      "description": "",
      "description_tooltip": null,
      "layout": "IPY_MODEL_4d668ffc0d444db59a920306a507587c",
      "placeholder": "​",
      "style": "IPY_MODEL_56101ae052c246d6a6b4206556e2de22",
      "value": "tokenizer.json: 100%"
     }
    },
    "982a2a37549840ba98cfcb8a3b0e37a1": {
     "model_module": "@jupyter-widgets/controls",
     "model_module_version": "1.5.0",
     "model_name": "DescriptionStyleModel",
     "state": {
      "_model_module": "@jupyter-widgets/controls",
      "_model_module_version": "1.5.0",
      "_model_name": "DescriptionStyleModel",
      "_view_count": null,
      "_view_module": "@jupyter-widgets/base",
      "_view_module_version": "1.2.0",
      "_view_name": "StyleView",
      "description_width": ""
     }
    },
    "a9bdc4d2f3e14467800519f653d1c530": {
     "model_module": "@jupyter-widgets/controls",
     "model_module_version": "1.5.0",
     "model_name": "HBoxModel",
     "state": {
      "_dom_classes": [],
      "_model_module": "@jupyter-widgets/controls",
      "_model_module_version": "1.5.0",
      "_model_name": "HBoxModel",
      "_view_count": null,
      "_view_module": "@jupyter-widgets/controls",
      "_view_module_version": "1.5.0",
      "_view_name": "HBoxView",
      "box_style": "",
      "children": [
       "IPY_MODEL_4d5c978de041452b8f72992014617c24",
       "IPY_MODEL_885d8157ccab449a9fecb4bb43eaddcc",
       "IPY_MODEL_5d755a3e83804f4eadade68b3c36d80f"
      ],
      "layout": "IPY_MODEL_93d952609d6a40499213ceb4e4642d6d"
     }
    },
    "b0037d0db79a4ed2b7f407f2c3b453d6": {
     "model_module": "@jupyter-widgets/controls",
     "model_module_version": "1.5.0",
     "model_name": "ProgressStyleModel",
     "state": {
      "_model_module": "@jupyter-widgets/controls",
      "_model_module_version": "1.5.0",
      "_model_name": "ProgressStyleModel",
      "_view_count": null,
      "_view_module": "@jupyter-widgets/base",
      "_view_module_version": "1.2.0",
      "_view_name": "StyleView",
      "bar_color": null,
      "description_width": ""
     }
    },
    "b107e0493252478484cb9db3176834a6": {
     "model_module": "@jupyter-widgets/controls",
     "model_module_version": "1.5.0",
     "model_name": "HTMLModel",
     "state": {
      "_dom_classes": [],
      "_model_module": "@jupyter-widgets/controls",
      "_model_module_version": "1.5.0",
      "_model_name": "HTMLModel",
      "_view_count": null,
      "_view_module": "@jupyter-widgets/controls",
      "_view_module_version": "1.5.0",
      "_view_name": "HTMLView",
      "description": "",
      "description_tooltip": null,
      "layout": "IPY_MODEL_0bfe94ff02a64aaa823afc6d480a799d",
      "placeholder": "​",
      "style": "IPY_MODEL_7727700bb99f42ea8feab6cddf61018a",
      "value": "tokenizer_config.json: 100%"
     }
    },
    "c5dca2acba0546428804fe8ff2b7af5b": {
     "model_module": "@jupyter-widgets/controls",
     "model_module_version": "1.5.0",
     "model_name": "HTMLModel",
     "state": {
      "_dom_classes": [],
      "_model_module": "@jupyter-widgets/controls",
      "_model_module_version": "1.5.0",
      "_model_name": "HTMLModel",
      "_view_count": null,
      "_view_module": "@jupyter-widgets/controls",
      "_view_module_version": "1.5.0",
      "_view_name": "HTMLView",
      "description": "",
      "description_tooltip": null,
      "layout": "IPY_MODEL_13b05895925f4df7b90040d99ce7f6db",
      "placeholder": "​",
      "style": "IPY_MODEL_58a2f32497624500a531736b28d29d66",
      "value": "vocab.txt: 100%"
     }
    },
    "c66b235e6462493ea2daa85b850cfd85": {
     "model_module": "@jupyter-widgets/controls",
     "model_module_version": "1.5.0",
     "model_name": "HTMLModel",
     "state": {
      "_dom_classes": [],
      "_model_module": "@jupyter-widgets/controls",
      "_model_module_version": "1.5.0",
      "_model_name": "HTMLModel",
      "_view_count": null,
      "_view_module": "@jupyter-widgets/controls",
      "_view_module_version": "1.5.0",
      "_view_name": "HTMLView",
      "description": "",
      "description_tooltip": null,
      "layout": "IPY_MODEL_e89707a3d58a4a8485b3b40d3bcc892f",
      "placeholder": "​",
      "style": "IPY_MODEL_982a2a37549840ba98cfcb8a3b0e37a1",
      "value": " 48.0/48.0 [00:00&lt;00:00, 5.69kB/s]"
     }
    },
    "c7489f24fea549c2a6c562a8aeff634e": {
     "model_module": "@jupyter-widgets/controls",
     "model_module_version": "1.5.0",
     "model_name": "ProgressStyleModel",
     "state": {
      "_model_module": "@jupyter-widgets/controls",
      "_model_module_version": "1.5.0",
      "_model_name": "ProgressStyleModel",
      "_view_count": null,
      "_view_module": "@jupyter-widgets/base",
      "_view_module_version": "1.2.0",
      "_view_name": "StyleView",
      "bar_color": null,
      "description_width": ""
     }
    },
    "ce5f8f763a754a16afef95b7d8cd6566": {
     "model_module": "@jupyter-widgets/controls",
     "model_module_version": "1.5.0",
     "model_name": "DescriptionStyleModel",
     "state": {
      "_model_module": "@jupyter-widgets/controls",
      "_model_module_version": "1.5.0",
      "_model_name": "DescriptionStyleModel",
      "_view_count": null,
      "_view_module": "@jupyter-widgets/base",
      "_view_module_version": "1.2.0",
      "_view_name": "StyleView",
      "description_width": ""
     }
    },
    "d653a9dcdce44552aaff69a6c39ca4e1": {
     "model_module": "@jupyter-widgets/base",
     "model_module_version": "1.2.0",
     "model_name": "LayoutModel",
     "state": {
      "_model_module": "@jupyter-widgets/base",
      "_model_module_version": "1.2.0",
      "_model_name": "LayoutModel",
      "_view_count": null,
      "_view_module": "@jupyter-widgets/base",
      "_view_module_version": "1.2.0",
      "_view_name": "LayoutView",
      "align_content": null,
      "align_items": null,
      "align_self": null,
      "border": null,
      "bottom": null,
      "display": null,
      "flex": null,
      "flex_flow": null,
      "grid_area": null,
      "grid_auto_columns": null,
      "grid_auto_flow": null,
      "grid_auto_rows": null,
      "grid_column": null,
      "grid_gap": null,
      "grid_row": null,
      "grid_template_areas": null,
      "grid_template_columns": null,
      "grid_template_rows": null,
      "height": null,
      "justify_content": null,
      "justify_items": null,
      "left": null,
      "margin": null,
      "max_height": null,
      "max_width": null,
      "min_height": null,
      "min_width": null,
      "object_fit": null,
      "object_position": null,
      "order": null,
      "overflow": null,
      "overflow_x": null,
      "overflow_y": null,
      "padding": null,
      "right": null,
      "top": null,
      "visibility": null,
      "width": null
     }
    },
    "e89707a3d58a4a8485b3b40d3bcc892f": {
     "model_module": "@jupyter-widgets/base",
     "model_module_version": "1.2.0",
     "model_name": "LayoutModel",
     "state": {
      "_model_module": "@jupyter-widgets/base",
      "_model_module_version": "1.2.0",
      "_model_name": "LayoutModel",
      "_view_count": null,
      "_view_module": "@jupyter-widgets/base",
      "_view_module_version": "1.2.0",
      "_view_name": "LayoutView",
      "align_content": null,
      "align_items": null,
      "align_self": null,
      "border": null,
      "bottom": null,
      "display": null,
      "flex": null,
      "flex_flow": null,
      "grid_area": null,
      "grid_auto_columns": null,
      "grid_auto_flow": null,
      "grid_auto_rows": null,
      "grid_column": null,
      "grid_gap": null,
      "grid_row": null,
      "grid_template_areas": null,
      "grid_template_columns": null,
      "grid_template_rows": null,
      "height": null,
      "justify_content": null,
      "justify_items": null,
      "left": null,
      "margin": null,
      "max_height": null,
      "max_width": null,
      "min_height": null,
      "min_width": null,
      "object_fit": null,
      "object_position": null,
      "order": null,
      "overflow": null,
      "overflow_x": null,
      "overflow_y": null,
      "padding": null,
      "right": null,
      "top": null,
      "visibility": null,
      "width": null
     }
    },
    "ec43420f93f3423eae05dea39c519527": {
     "model_module": "@jupyter-widgets/controls",
     "model_module_version": "1.5.0",
     "model_name": "DescriptionStyleModel",
     "state": {
      "_model_module": "@jupyter-widgets/controls",
      "_model_module_version": "1.5.0",
      "_model_name": "DescriptionStyleModel",
      "_view_count": null,
      "_view_module": "@jupyter-widgets/base",
      "_view_module_version": "1.2.0",
      "_view_name": "StyleView",
      "description_width": ""
     }
    },
    "f13fd4e50b9d4465bc449f748b97a67b": {
     "model_module": "@jupyter-widgets/controls",
     "model_module_version": "1.5.0",
     "model_name": "FloatProgressModel",
     "state": {
      "_dom_classes": [],
      "_model_module": "@jupyter-widgets/controls",
      "_model_module_version": "1.5.0",
      "_model_name": "FloatProgressModel",
      "_view_count": null,
      "_view_module": "@jupyter-widgets/controls",
      "_view_module_version": "1.5.0",
      "_view_name": "ProgressView",
      "bar_style": "success",
      "description": "",
      "description_tooltip": null,
      "layout": "IPY_MODEL_0a003d3ab36943c9a1e4fb3354a2bcf6",
      "max": 466062,
      "min": 0,
      "orientation": "horizontal",
      "style": "IPY_MODEL_b0037d0db79a4ed2b7f407f2c3b453d6",
      "value": 466062
     }
    },
    "f5b953aefcd040b9ae84aefca15fecdd": {
     "model_module": "@jupyter-widgets/controls",
     "model_module_version": "1.5.0",
     "model_name": "ProgressStyleModel",
     "state": {
      "_model_module": "@jupyter-widgets/controls",
      "_model_module_version": "1.5.0",
      "_model_name": "ProgressStyleModel",
      "_view_count": null,
      "_view_module": "@jupyter-widgets/base",
      "_view_module_version": "1.2.0",
      "_view_name": "StyleView",
      "bar_color": null,
      "description_width": ""
     }
    },
    "f84dd467111143faaeda9b2c563dc23a": {
     "model_module": "@jupyter-widgets/base",
     "model_module_version": "1.2.0",
     "model_name": "LayoutModel",
     "state": {
      "_model_module": "@jupyter-widgets/base",
      "_model_module_version": "1.2.0",
      "_model_name": "LayoutModel",
      "_view_count": null,
      "_view_module": "@jupyter-widgets/base",
      "_view_module_version": "1.2.0",
      "_view_name": "LayoutView",
      "align_content": null,
      "align_items": null,
      "align_self": null,
      "border": null,
      "bottom": null,
      "display": null,
      "flex": null,
      "flex_flow": null,
      "grid_area": null,
      "grid_auto_columns": null,
      "grid_auto_flow": null,
      "grid_auto_rows": null,
      "grid_column": null,
      "grid_gap": null,
      "grid_row": null,
      "grid_template_areas": null,
      "grid_template_columns": null,
      "grid_template_rows": null,
      "height": null,
      "justify_content": null,
      "justify_items": null,
      "left": null,
      "margin": null,
      "max_height": null,
      "max_width": null,
      "min_height": null,
      "min_width": null,
      "object_fit": null,
      "object_position": null,
      "order": null,
      "overflow": null,
      "overflow_x": null,
      "overflow_y": null,
      "padding": null,
      "right": null,
      "top": null,
      "visibility": null,
      "width": null
     }
    }
   }
  }
 },
 "nbformat": 4,
 "nbformat_minor": 4
}
