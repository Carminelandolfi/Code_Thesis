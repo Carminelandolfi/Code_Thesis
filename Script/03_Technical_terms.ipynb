{
 "cells": [
  {
   "cell_type": "markdown",
   "id": "4c1bc898-7043-4c6b-adb4-772c9747150c",
   "metadata": {},
   "source": [
    "# Library Imports\n",
    "\n",
    "We import all the necessary Python libraries used throughout the analysis.\n"
   ]
  },
  {
   "cell_type": "code",
   "execution_count": 1,
   "id": "3eb10284-53db-4e92-b95f-2dba2e28c833",
   "metadata": {},
   "outputs": [],
   "source": [
    "import pandas as pd\n",
    "import re\n",
    "from sklearn.feature_extraction.text import TfidfVectorizer\n",
    "from nltk.corpus import stopwords\n",
    "import nltk\n",
    "\n",
    "from transformers import AutoTokenizer\n"
   ]
  },
  {
   "cell_type": "markdown",
   "id": "0646be6a-fc37-41e4-88a5-5950867dd9aa",
   "metadata": {},
   "source": [
    "# Dataset Loading\n"
   ]
  },
  {
   "cell_type": "code",
   "execution_count": 2,
   "id": "c28686e5-541b-4269-ac23-686e880ae0fc",
   "metadata": {},
   "outputs": [],
   "source": [
    "df = pd.read_csv(\"../Datasets/cleaned_dataset.csv\",encoding='utf-8')"
   ]
  },
  {
   "cell_type": "markdown",
   "id": "006d2850-ec02-4ce5-ad0c-78e0320afb1f",
   "metadata": {},
   "source": [
    "# Technical terms"
   ]
  },
  {
   "cell_type": "code",
   "execution_count": 3,
   "id": "a6678d5b-c4df-4d16-8d22-c09f9e62b08d",
   "metadata": {},
   "outputs": [
    {
     "name": "stderr",
     "output_type": "stream",
     "text": [
      "[nltk_data] Downloading package stopwords to /home/carmine-\n",
      "[nltk_data]     landolfi/nltk_data...\n",
      "[nltk_data]   Package stopwords is already up-to-date!\n"
     ]
    }
   ],
   "source": [
    "nltk.download('stopwords')\n",
    "stop_words = set(stopwords.words('english'))\n",
    "\n",
    "custom_stopwords = {\"et\", \"al\", \"using\", \"based\", \"method\", \"approach\"} \n",
    "stop_words = stop_words.union(custom_stopwords)\n",
    "\n",
    "# Pre-processing function\n",
    "def preprocess_text(text):\n",
    "    text = text.lower()  # lowercase\n",
    "    text = re.sub(r'\\d+', '', text)  # remove numbers\n",
    "    text = re.sub(r'[^\\w\\s]', '', text)  # remove punctuation\n",
    "    tokens = text.split()\n",
    "    tokens = [t for t in tokens if t not in stop_words]  # remove stopwords\n",
    "    return ' '.join(tokens)\n",
    "\n",
    "# Apply preprocessing\n",
    "df['abstract_clean_processed'] = df['abstract_clean'].astype(str).apply(preprocess_text)\n",
    "\n",
    "# TF-IDF\n",
    "vectorizer = TfidfVectorizer(max_features=5000)\n",
    "X = vectorizer.fit_transform(df['abstract_clean_processed'])\n",
    "technical_terms = vectorizer.get_feature_names_out()\n",
    "\n",
    "# Convert technical terms to DataFrame\n",
    "df_terms = pd.DataFrame(technical_terms, columns=['technical_term'])\n",
    "\n",
    "# Save to CSV\n",
    "df_terms.to_csv('../Datasets/technical_terms.csv', index=False, header=True)\n",
    "\n",
    "print(\"Technical terms saved to '../Datasets/technical_terms.csv'\")"
   ]
  },
  {
   "cell_type": "markdown",
   "id": "8280e625-90af-40bc-a81a-80464fdbbd89",
   "metadata": {},
   "source": [
    "# Tokenization of the terms"
   ]
  },
  {
   "cell_type": "code",
   "execution_count": 4,
   "id": "0ab47188-2390-452f-8e6b-f24826088738",
   "metadata": {},
   "outputs": [
    {
     "name": "stdout",
     "output_type": "stream",
     "text": [
      "✅ Tokenizzazione BERT base salvata.\n",
      "✅ Tokenizzazione SciBERT salvata.\n"
     ]
    }
   ],
   "source": [
    "\n",
    "def tokenize_terms(terms, model_name):\n",
    "    tokenizer = AutoTokenizer.from_pretrained(model_name, use_fast=True)\n",
    "    tokenized_terms = []\n",
    "    \n",
    "    for term in terms:\n",
    "        encoding = tokenizer(term, add_special_tokens=False)\n",
    "        tokens = tokenizer.tokenize(term)\n",
    "        token_ids = encoding['input_ids']\n",
    "        tokenized_terms.append({\n",
    "            \"term\": term,\n",
    "            \"tokens\": tokens,\n",
    "            \"token_ids\": token_ids\n",
    "        })\n",
    "    \n",
    "    df_tokens = pd.DataFrame(tokenized_terms)\n",
    "    return df_tokens\n",
    "\n",
    "# Tokenization BERT base\n",
    "df_bert = tokenize_terms(technical_terms, \"bert-base-uncased\")\n",
    "df_bert.to_csv(\"../Datasets/technical_terms_tokenized_BERT.csv\", index=False)\n",
    "print(\"Tokenization BERT base stored.\")\n",
    "\n",
    "# Tokenization SciBERT\n",
    "df_scibert = tokenize_terms(technical_terms, \"allenai/scibert_scivocab_uncased\")\n",
    "df_scibert.to_csv(\"../Datasets/technical_terms_tokenized_SciBERT.csv\", index=False)\n",
    "print(\"Tokenization SciBERT stored.\")"
   ]
  }
 ],
 "metadata": {
  "kernelspec": {
   "display_name": "Python 3 (ipykernel)",
   "language": "python",
   "name": "python3"
  },
  "language_info": {
   "codemirror_mode": {
    "name": "ipython",
    "version": 3
   },
   "file_extension": ".py",
   "mimetype": "text/x-python",
   "name": "python",
   "nbconvert_exporter": "python",
   "pygments_lexer": "ipython3",
   "version": "3.9.23"
  }
 },
 "nbformat": 4,
 "nbformat_minor": 5
}
