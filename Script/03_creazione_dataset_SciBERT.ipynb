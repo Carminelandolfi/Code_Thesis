{
 "cells": [
  {
   "cell_type": "markdown",
   "id": "6e647a6e-8721-4703-8057-29472a86d0df",
   "metadata": {},
   "source": [
    "## 1. Library Imports\n",
    "\n",
    "\n",
    "In this section, we import all the necessary libraries for data preprocessing, tokenization, model training, and evaluation."
   ]
  },
  {
   "cell_type": "code",
   "execution_count": 1,
   "id": "9117a4a0-340d-4b42-a6cb-97f9a9d53f48",
   "metadata": {},
   "outputs": [
    {
     "name": "stderr",
     "output_type": "stream",
     "text": [
      "[nltk_data] Downloading package punkt_tab to /home/carmine-\n",
      "[nltk_data]     landolfi/nltk_data...\n",
      "[nltk_data]   Package punkt_tab is already up-to-date!\n"
     ]
    },
    {
     "data": {
      "text/plain": [
       "True"
      ]
     },
     "execution_count": 1,
     "metadata": {},
     "output_type": "execute_result"
    }
   ],
   "source": [
    "import pandas as pd\n",
    "import random\n",
    "import torch\n",
    "from transformers import AutoTokenizer\n",
    "import nltk\n",
    "from nltk import sent_tokenize\n",
    "\n",
    "# Download punkt for sentence tokenization\n",
    "nltk.download('punkt_tab')"
   ]
  },
  {
   "cell_type": "markdown",
   "id": "9bf642ab-532b-4be3-be8b-1910a97f4b46",
   "metadata": {},
   "source": [
    "# 2. Dataset Loading\n",
    "\n",
    "In this section, we load the dataset of scientific abstracts that were previously collected and cleaned"
   ]
  },
  {
   "cell_type": "code",
   "execution_count": 2,
   "id": "a731f7f7-6f5c-4e01-afd0-7dc4a6fb788a",
   "metadata": {},
   "outputs": [],
   "source": [
    "df = pd.read_csv(\"../Datasets/cleaned_dataset.csv\",encoding='utf-8')"
   ]
  },
  {
   "cell_type": "code",
   "execution_count": 3,
   "id": "bce78e5b-faff-4ad6-873a-0075ac994c02",
   "metadata": {},
   "outputs": [],
   "source": [
    "index_del = pd.read_csv(\"../Datasets/Index_del.csv\")"
   ]
  },
  {
   "cell_type": "markdown",
   "id": "eec051ac-9db6-4741-9594-68a8ef9126a2",
   "metadata": {},
   "source": [
    "# Dataset Creation\n",
    "\n",
    "The following datasets have been prepared for various stages of the experimental pipeline:\n",
    "\n",
    "- **Masked Language Modeling (MLM) Evaluation:**  \n",
    "  A separate dataset of 20K abstracts, not overlapping with the DAPT datasets, used to evaluate the model's performance on the MLM task for SciBERT model.\n",
    "\n",
    "- **Fine-Tuning:**  \n",
    "  A residual dataset, composed of all remaining abstracts not used in DAPT or MLM evaluation, reserved for downstream fine-tuning tasks (e.g., classification).\n"
   ]
  },
  {
   "cell_type": "code",
   "execution_count": 4,
   "id": "cbafd2af-b92c-4406-95fe-6b4fc2a6ba4b",
   "metadata": {},
   "outputs": [
    {
     "name": "stderr",
     "output_type": "stream",
     "text": [
      "/tmp/ipykernel_1819913/801149295.py:21: DeprecationWarning: Sampling from a set deprecated\n",
      "since Python 3.9 and will be removed in a subsequent version.\n",
      "  indices_10k = set(random.sample(indices_100k, SAMPLE_10K))\n",
      "/tmp/ipykernel_1819913/801149295.py:24: DeprecationWarning: Sampling from a set deprecated\n",
      "since Python 3.9 and will be removed in a subsequent version.\n",
      "  indices_50k = set(random.sample(indices_100k, SAMPLE_50K))\n",
      "/tmp/ipykernel_1819913/801149295.py:28: DeprecationWarning: Sampling from a set deprecated\n",
      "since Python 3.9 and will be removed in a subsequent version.\n",
      "  indices_10k_val = set(random.sample(remaining_after_100k, VAL_SAMPLE_SIZE))\n"
     ]
    }
   ],
   "source": [
    "\n",
    "# Parameters\n",
    "DAPT_SAMPLE_SIZE = 100_000      # Total abstracts to sample for main dataset\n",
    "SAMPLE_10K = 10_000             # Size of smaller subset from 100K\n",
    "SAMPLE_50K = 50_000             # Size of larger subset from 100K \n",
    "VAL_SAMPLE_SIZE = 20_000        # Validation dataset size from outside the 100K\n",
    "SEED = 123                     # Random seed for reproducibility\n",
    "\n",
    "random.seed(SEED)\n",
    "\n",
    "indeces_to_delete = index_del['indices']\n",
    "\n",
    "# delete indices from df\n",
    "df = df.drop(index=indices_to_delete, errors='ignore').reset_index()\n",
    "N = len(df)  # Total number of abstracts available\n",
    "\n",
    "# Step 1: Randomly sample 100K abstracts for the main domain-adaptive pretraining dataset\n",
    "indices_100k = set(random.sample(range(N), DAPT_SAMPLE_SIZE))\n",
    "\n",
    "# Step 2: From the 100K dataset, randomly select 10K abstracts\n",
    "indices_10k = set(random.sample(indices_100k, SAMPLE_10K))\n",
    "\n",
    "# Step 3: From the remaining 90K (100K minus 10K), select 50K abstracts\n",
    "indices_50k = set(random.sample(indices_100k, SAMPLE_50K))\n",
    "\n",
    "# Step 4: From the abstracts NOT in the 100K sample, randomly select 20K for validation using MLM\n",
    "remaining_after_100k = set(range(N)) - indices_100k\n",
    "indices_10k_val = set(random.sample(remaining_after_100k, VAL_SAMPLE_SIZE))\n",
    "\n",
    "# Step 5: The remaining abstracts not selected in any of the above datasets for Fine-Tuning\n",
    "indices_remaining = set(range(N)) - indices_100k - indices_10k_val\n",
    "\n",
    "# Create the five datasets using the selected indices\n",
    "df_100k = df.loc[list(indices_100k)].reset_index()\n",
    "df_10k = df.loc[list(indices_10k)].reset_index()\n",
    "df_50k = df.loc[list(indices_50k)].reset_index()\n",
    "df_10k_val = df.loc[list(indices_10k_val)].reset_index()\n",
    "df_remaining = df.loc[list(indices_remaining)].reset_index()"
   ]
  },
  {
   "cell_type": "code",
   "execution_count": 6,
   "id": "7a2fddab-e5a3-4ecb-8a13-7a20af851900",
   "metadata": {},
   "outputs": [
    {
     "name": "stderr",
     "output_type": "stream",
     "text": [
      "[nltk_data] Downloading package punkt to /home/carmine-\n",
      "[nltk_data]     landolfi/nltk_data...\n",
      "[nltk_data]   Package punkt is already up-to-date!\n",
      "/tmp/ipykernel_1819913/3232257489.py:18: DeprecationWarning: Sampling from a set deprecated\n",
      "since Python 3.9 and will be removed in a subsequent version.\n",
      "  indices_10k_val = set(random.sample(remaining_after_100k, VAL_SAMPLE_SIZE))\n"
     ]
    }
   ],
   "source": [
    "# 1. Load datasets\n",
    "df = pd.read_csv(\"../Datasets/cleaned_dataset.csv\", encoding='utf-8')\n",
    "index_del = pd.read_csv(\"../Datasets/Index_del.csv\")\n",
    "\n",
    "# Example: take 20k validation samples from remaining_after_100k\n",
    "VAL_SAMPLE_SIZE = 20_000\n",
    "\n",
    "# Make sure 'remaining_after_100k' is defined earlier\n",
    "indices_10k_val = set(random.sample(remaining_after_100k, VAL_SAMPLE_SIZE))\n",
    "\n",
    "# The remaining abstracts not selected in any of the above datasets for Fine-Tuning\n",
    "indices_remaining = set(range(N)) - indices_100k - indices_10k_val\n",
    "                  \n",
    "df_10k_val = df.loc[list(indices_10k_val)].reset_index(drop=True)\n",
    "df_remaining = df.loc[list(indices_remaining)].reset_index(drop=True)\n",
    "\n",
    "# 2. Initialize SciBERT tokenizer\n",
    "tokenizer = AutoTokenizer.from_pretrained(\"allenai/scibert_scivocab_uncased\")\n",
    "\n",
    "# 3. Tokenization function\n",
    "class TokenizerSegmenter:\n",
    "    def __init__(self, tokenizer, max_length=512):\n",
    "        self.tokenizer = tokenizer\n",
    "        self.max_length = max_length\n",
    "\n",
    "    def process(self, abstracts):\n",
    "        \"\"\"\n",
    "        Tokenize abstracts using SciBERT tokenizer with truncation & padding.\n",
    "        \"\"\"\n",
    "        encodings = self.tokenizer(\n",
    "            list(abstracts),\n",
    "            truncation=True,\n",
    "            padding=\"max_length\",\n",
    "            max_length=self.max_length,\n",
    "            return_tensors=\"pt\"\n",
    "        )\n",
    "        return encodings\n",
    "\n"
   ]
  },
  {
   "cell_type": "code",
   "execution_count": 7,
   "id": "e0c4c249-eac3-4061-9875-de15a2873bbe",
   "metadata": {},
   "outputs": [
    {
     "name": "stdout",
     "output_type": "stream",
     "text": [
      "torch.Size([20000, 300])\n",
      "torch.Size([20000, 300])\n"
     ]
    }
   ],
   "source": [
    "prep = TokenizerSegmenter(tokenizer, max_length=300)  \n",
    "prep_10k_val = prep.process(df_10k_val[\"abstract_clean\"])\n",
    "prep_remaining = prep.process(df_remaining[\"abstract_clean\"])\n",
    "\n",
    "print(prep_10k_val[\"input_ids\"].shape)\n",
    "print(prep_10k_val[\"attention_mask\"].shape)"
   ]
  },
  {
   "cell_type": "code",
   "execution_count": 8,
   "id": "41a4c96d-d396-4707-892b-dce5f81e3050",
   "metadata": {},
   "outputs": [],
   "source": [
    "# Create a DataFrame containing the cleaned abstracts and tokenized inputs\n",
    "df_10k_val = pd.DataFrame({\n",
    "    \"abstract_clean\": df_10k_val[\"abstract_clean\"],\n",
    "    \"input_ids\": prep_10k_val[\"input_ids\"].tolist(),\n",
    "    \"attention_mask\": prep_10k_val[\"attention_mask\"].tolist()\n",
    "})\n",
    "\n",
    "df_remaining = pd.DataFrame({\n",
    "    \"abstract_clean\": df_remaining[\"abstract_clean\"],\n",
    "    \"primary_category\": df_remaining[\"primary_category\"],\n",
    "    \"input_ids\": prep_remaining[\"input_ids\"].tolist(),\n",
    "    \"attention_mask\": prep_remaining[\"attention_mask\"].tolist()\n",
    "})"
   ]
  },
  {
   "cell_type": "code",
   "execution_count": 9,
   "id": "2b3efc71-9a25-42a2-b8a2-c32c7b5ca061",
   "metadata": {},
   "outputs": [],
   "source": [
    "# Save datasets to CSV files with headers\n",
    "df_10k_val.to_csv('../Datasets/dataset_10k_val_SciBERT.csv', header=True, index = False)\n",
    "df_remaining.to_csv('../Datasets/dataset_remaining_SciBERT.csv', header=True, index = False)"
   ]
  }
 ],
 "metadata": {
  "kernelspec": {
   "display_name": "Python 3 (ipykernel)",
   "language": "python",
   "name": "python3"
  },
  "language_info": {
   "codemirror_mode": {
    "name": "ipython",
    "version": 3
   },
   "file_extension": ".py",
   "mimetype": "text/x-python",
   "name": "python",
   "nbconvert_exporter": "python",
   "pygments_lexer": "ipython3",
   "version": "3.9.23"
  }
 },
 "nbformat": 4,
 "nbformat_minor": 5
}
